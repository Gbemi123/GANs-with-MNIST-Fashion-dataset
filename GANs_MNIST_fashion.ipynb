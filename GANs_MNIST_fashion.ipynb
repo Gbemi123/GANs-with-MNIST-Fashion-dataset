{
  "nbformat": 4,
  "nbformat_minor": 0,
  "metadata": {
    "colab": {
      "provenance": [],
      "mount_file_id": "1hrMYgwpV9HpbZkgKwyhCdKELLugXtEdb",
      "authorship_tag": "ABX9TyOzHJbFDA3Q1WIIH8TnCPwf",
      "include_colab_link": true
    },
    "kernelspec": {
      "name": "python3",
      "display_name": "Python 3"
    },
    "language_info": {
      "name": "python"
    },
    "accelerator": "GPU",
    "gpuClass": "standard",
    "widgets": {
      "application/vnd.jupyter.widget-state+json": {
        "63b4e38a1e1e4bbeb4f48cfb92ad8057": {
          "model_module": "@jupyter-widgets/controls",
          "model_name": "HBoxModel",
          "model_module_version": "1.5.0",
          "state": {
            "_dom_classes": [],
            "_model_module": "@jupyter-widgets/controls",
            "_model_module_version": "1.5.0",
            "_model_name": "HBoxModel",
            "_view_count": null,
            "_view_module": "@jupyter-widgets/controls",
            "_view_module_version": "1.5.0",
            "_view_name": "HBoxView",
            "box_style": "",
            "children": [
              "IPY_MODEL_f589a8aa4b6d443b902d1e7da50bab9f",
              "IPY_MODEL_565fe23558f94aa19eac08305da405d4",
              "IPY_MODEL_fc1a18b59a9d48e5b81791812903a4ca"
            ],
            "layout": "IPY_MODEL_24d29beaa2a149379a6252927cab387b"
          }
        },
        "f589a8aa4b6d443b902d1e7da50bab9f": {
          "model_module": "@jupyter-widgets/controls",
          "model_name": "HTMLModel",
          "model_module_version": "1.5.0",
          "state": {
            "_dom_classes": [],
            "_model_module": "@jupyter-widgets/controls",
            "_model_module_version": "1.5.0",
            "_model_name": "HTMLModel",
            "_view_count": null,
            "_view_module": "@jupyter-widgets/controls",
            "_view_module_version": "1.5.0",
            "_view_name": "HTMLView",
            "description": "",
            "description_tooltip": null,
            "layout": "IPY_MODEL_2d7078184c284eb8a945c6de8b2313a0",
            "placeholder": "​",
            "style": "IPY_MODEL_b6bd3767f8d54f8986d1362afbd9bd76",
            "value": "100%"
          }
        },
        "565fe23558f94aa19eac08305da405d4": {
          "model_module": "@jupyter-widgets/controls",
          "model_name": "FloatProgressModel",
          "model_module_version": "1.5.0",
          "state": {
            "_dom_classes": [],
            "_model_module": "@jupyter-widgets/controls",
            "_model_module_version": "1.5.0",
            "_model_name": "FloatProgressModel",
            "_view_count": null,
            "_view_module": "@jupyter-widgets/controls",
            "_view_module_version": "1.5.0",
            "_view_name": "ProgressView",
            "bar_style": "success",
            "description": "",
            "description_tooltip": null,
            "layout": "IPY_MODEL_c66229c30187487da76fb1e1fb1f7d0d",
            "max": 26421880,
            "min": 0,
            "orientation": "horizontal",
            "style": "IPY_MODEL_660ff629d28f4234bbceadc2ee075172",
            "value": 26421880
          }
        },
        "fc1a18b59a9d48e5b81791812903a4ca": {
          "model_module": "@jupyter-widgets/controls",
          "model_name": "HTMLModel",
          "model_module_version": "1.5.0",
          "state": {
            "_dom_classes": [],
            "_model_module": "@jupyter-widgets/controls",
            "_model_module_version": "1.5.0",
            "_model_name": "HTMLModel",
            "_view_count": null,
            "_view_module": "@jupyter-widgets/controls",
            "_view_module_version": "1.5.0",
            "_view_name": "HTMLView",
            "description": "",
            "description_tooltip": null,
            "layout": "IPY_MODEL_8a7a31ed508744fcb49702ff82f2e11f",
            "placeholder": "​",
            "style": "IPY_MODEL_6b17b232500d4411bd55fa761f618bb0",
            "value": " 26421880/26421880 [00:01&lt;00:00, 24522366.01it/s]"
          }
        },
        "24d29beaa2a149379a6252927cab387b": {
          "model_module": "@jupyter-widgets/base",
          "model_name": "LayoutModel",
          "model_module_version": "1.2.0",
          "state": {
            "_model_module": "@jupyter-widgets/base",
            "_model_module_version": "1.2.0",
            "_model_name": "LayoutModel",
            "_view_count": null,
            "_view_module": "@jupyter-widgets/base",
            "_view_module_version": "1.2.0",
            "_view_name": "LayoutView",
            "align_content": null,
            "align_items": null,
            "align_self": null,
            "border": null,
            "bottom": null,
            "display": null,
            "flex": null,
            "flex_flow": null,
            "grid_area": null,
            "grid_auto_columns": null,
            "grid_auto_flow": null,
            "grid_auto_rows": null,
            "grid_column": null,
            "grid_gap": null,
            "grid_row": null,
            "grid_template_areas": null,
            "grid_template_columns": null,
            "grid_template_rows": null,
            "height": null,
            "justify_content": null,
            "justify_items": null,
            "left": null,
            "margin": null,
            "max_height": null,
            "max_width": null,
            "min_height": null,
            "min_width": null,
            "object_fit": null,
            "object_position": null,
            "order": null,
            "overflow": null,
            "overflow_x": null,
            "overflow_y": null,
            "padding": null,
            "right": null,
            "top": null,
            "visibility": null,
            "width": null
          }
        },
        "2d7078184c284eb8a945c6de8b2313a0": {
          "model_module": "@jupyter-widgets/base",
          "model_name": "LayoutModel",
          "model_module_version": "1.2.0",
          "state": {
            "_model_module": "@jupyter-widgets/base",
            "_model_module_version": "1.2.0",
            "_model_name": "LayoutModel",
            "_view_count": null,
            "_view_module": "@jupyter-widgets/base",
            "_view_module_version": "1.2.0",
            "_view_name": "LayoutView",
            "align_content": null,
            "align_items": null,
            "align_self": null,
            "border": null,
            "bottom": null,
            "display": null,
            "flex": null,
            "flex_flow": null,
            "grid_area": null,
            "grid_auto_columns": null,
            "grid_auto_flow": null,
            "grid_auto_rows": null,
            "grid_column": null,
            "grid_gap": null,
            "grid_row": null,
            "grid_template_areas": null,
            "grid_template_columns": null,
            "grid_template_rows": null,
            "height": null,
            "justify_content": null,
            "justify_items": null,
            "left": null,
            "margin": null,
            "max_height": null,
            "max_width": null,
            "min_height": null,
            "min_width": null,
            "object_fit": null,
            "object_position": null,
            "order": null,
            "overflow": null,
            "overflow_x": null,
            "overflow_y": null,
            "padding": null,
            "right": null,
            "top": null,
            "visibility": null,
            "width": null
          }
        },
        "b6bd3767f8d54f8986d1362afbd9bd76": {
          "model_module": "@jupyter-widgets/controls",
          "model_name": "DescriptionStyleModel",
          "model_module_version": "1.5.0",
          "state": {
            "_model_module": "@jupyter-widgets/controls",
            "_model_module_version": "1.5.0",
            "_model_name": "DescriptionStyleModel",
            "_view_count": null,
            "_view_module": "@jupyter-widgets/base",
            "_view_module_version": "1.2.0",
            "_view_name": "StyleView",
            "description_width": ""
          }
        },
        "c66229c30187487da76fb1e1fb1f7d0d": {
          "model_module": "@jupyter-widgets/base",
          "model_name": "LayoutModel",
          "model_module_version": "1.2.0",
          "state": {
            "_model_module": "@jupyter-widgets/base",
            "_model_module_version": "1.2.0",
            "_model_name": "LayoutModel",
            "_view_count": null,
            "_view_module": "@jupyter-widgets/base",
            "_view_module_version": "1.2.0",
            "_view_name": "LayoutView",
            "align_content": null,
            "align_items": null,
            "align_self": null,
            "border": null,
            "bottom": null,
            "display": null,
            "flex": null,
            "flex_flow": null,
            "grid_area": null,
            "grid_auto_columns": null,
            "grid_auto_flow": null,
            "grid_auto_rows": null,
            "grid_column": null,
            "grid_gap": null,
            "grid_row": null,
            "grid_template_areas": null,
            "grid_template_columns": null,
            "grid_template_rows": null,
            "height": null,
            "justify_content": null,
            "justify_items": null,
            "left": null,
            "margin": null,
            "max_height": null,
            "max_width": null,
            "min_height": null,
            "min_width": null,
            "object_fit": null,
            "object_position": null,
            "order": null,
            "overflow": null,
            "overflow_x": null,
            "overflow_y": null,
            "padding": null,
            "right": null,
            "top": null,
            "visibility": null,
            "width": null
          }
        },
        "660ff629d28f4234bbceadc2ee075172": {
          "model_module": "@jupyter-widgets/controls",
          "model_name": "ProgressStyleModel",
          "model_module_version": "1.5.0",
          "state": {
            "_model_module": "@jupyter-widgets/controls",
            "_model_module_version": "1.5.0",
            "_model_name": "ProgressStyleModel",
            "_view_count": null,
            "_view_module": "@jupyter-widgets/base",
            "_view_module_version": "1.2.0",
            "_view_name": "StyleView",
            "bar_color": null,
            "description_width": ""
          }
        },
        "8a7a31ed508744fcb49702ff82f2e11f": {
          "model_module": "@jupyter-widgets/base",
          "model_name": "LayoutModel",
          "model_module_version": "1.2.0",
          "state": {
            "_model_module": "@jupyter-widgets/base",
            "_model_module_version": "1.2.0",
            "_model_name": "LayoutModel",
            "_view_count": null,
            "_view_module": "@jupyter-widgets/base",
            "_view_module_version": "1.2.0",
            "_view_name": "LayoutView",
            "align_content": null,
            "align_items": null,
            "align_self": null,
            "border": null,
            "bottom": null,
            "display": null,
            "flex": null,
            "flex_flow": null,
            "grid_area": null,
            "grid_auto_columns": null,
            "grid_auto_flow": null,
            "grid_auto_rows": null,
            "grid_column": null,
            "grid_gap": null,
            "grid_row": null,
            "grid_template_areas": null,
            "grid_template_columns": null,
            "grid_template_rows": null,
            "height": null,
            "justify_content": null,
            "justify_items": null,
            "left": null,
            "margin": null,
            "max_height": null,
            "max_width": null,
            "min_height": null,
            "min_width": null,
            "object_fit": null,
            "object_position": null,
            "order": null,
            "overflow": null,
            "overflow_x": null,
            "overflow_y": null,
            "padding": null,
            "right": null,
            "top": null,
            "visibility": null,
            "width": null
          }
        },
        "6b17b232500d4411bd55fa761f618bb0": {
          "model_module": "@jupyter-widgets/controls",
          "model_name": "DescriptionStyleModel",
          "model_module_version": "1.5.0",
          "state": {
            "_model_module": "@jupyter-widgets/controls",
            "_model_module_version": "1.5.0",
            "_model_name": "DescriptionStyleModel",
            "_view_count": null,
            "_view_module": "@jupyter-widgets/base",
            "_view_module_version": "1.2.0",
            "_view_name": "StyleView",
            "description_width": ""
          }
        },
        "f559fd407186441d871127c996c476c9": {
          "model_module": "@jupyter-widgets/controls",
          "model_name": "HBoxModel",
          "model_module_version": "1.5.0",
          "state": {
            "_dom_classes": [],
            "_model_module": "@jupyter-widgets/controls",
            "_model_module_version": "1.5.0",
            "_model_name": "HBoxModel",
            "_view_count": null,
            "_view_module": "@jupyter-widgets/controls",
            "_view_module_version": "1.5.0",
            "_view_name": "HBoxView",
            "box_style": "",
            "children": [
              "IPY_MODEL_38bf7287dbe547b48ad232f474571b83",
              "IPY_MODEL_754b9d24266d4513a1f2e90b33445a84",
              "IPY_MODEL_9bfb419c352b45b9bb55c0722793d745"
            ],
            "layout": "IPY_MODEL_6b1def65d5284408bccfd494c2c65305"
          }
        },
        "38bf7287dbe547b48ad232f474571b83": {
          "model_module": "@jupyter-widgets/controls",
          "model_name": "HTMLModel",
          "model_module_version": "1.5.0",
          "state": {
            "_dom_classes": [],
            "_model_module": "@jupyter-widgets/controls",
            "_model_module_version": "1.5.0",
            "_model_name": "HTMLModel",
            "_view_count": null,
            "_view_module": "@jupyter-widgets/controls",
            "_view_module_version": "1.5.0",
            "_view_name": "HTMLView",
            "description": "",
            "description_tooltip": null,
            "layout": "IPY_MODEL_55a86f0f66b641868631641380202004",
            "placeholder": "​",
            "style": "IPY_MODEL_adc6a7bbd8934926b9fea6405cfad437",
            "value": "100%"
          }
        },
        "754b9d24266d4513a1f2e90b33445a84": {
          "model_module": "@jupyter-widgets/controls",
          "model_name": "FloatProgressModel",
          "model_module_version": "1.5.0",
          "state": {
            "_dom_classes": [],
            "_model_module": "@jupyter-widgets/controls",
            "_model_module_version": "1.5.0",
            "_model_name": "FloatProgressModel",
            "_view_count": null,
            "_view_module": "@jupyter-widgets/controls",
            "_view_module_version": "1.5.0",
            "_view_name": "ProgressView",
            "bar_style": "success",
            "description": "",
            "description_tooltip": null,
            "layout": "IPY_MODEL_7e3a59804ba048d3a14ba1d58ee5d7d3",
            "max": 29515,
            "min": 0,
            "orientation": "horizontal",
            "style": "IPY_MODEL_c0683b568ce94652ac1c1acbea54d640",
            "value": 29515
          }
        },
        "9bfb419c352b45b9bb55c0722793d745": {
          "model_module": "@jupyter-widgets/controls",
          "model_name": "HTMLModel",
          "model_module_version": "1.5.0",
          "state": {
            "_dom_classes": [],
            "_model_module": "@jupyter-widgets/controls",
            "_model_module_version": "1.5.0",
            "_model_name": "HTMLModel",
            "_view_count": null,
            "_view_module": "@jupyter-widgets/controls",
            "_view_module_version": "1.5.0",
            "_view_name": "HTMLView",
            "description": "",
            "description_tooltip": null,
            "layout": "IPY_MODEL_5456254705874a09aab153bfe32cc689",
            "placeholder": "​",
            "style": "IPY_MODEL_73225fb2b59a455db211cf2125536be8",
            "value": " 29515/29515 [00:00&lt;00:00, 266166.60it/s]"
          }
        },
        "6b1def65d5284408bccfd494c2c65305": {
          "model_module": "@jupyter-widgets/base",
          "model_name": "LayoutModel",
          "model_module_version": "1.2.0",
          "state": {
            "_model_module": "@jupyter-widgets/base",
            "_model_module_version": "1.2.0",
            "_model_name": "LayoutModel",
            "_view_count": null,
            "_view_module": "@jupyter-widgets/base",
            "_view_module_version": "1.2.0",
            "_view_name": "LayoutView",
            "align_content": null,
            "align_items": null,
            "align_self": null,
            "border": null,
            "bottom": null,
            "display": null,
            "flex": null,
            "flex_flow": null,
            "grid_area": null,
            "grid_auto_columns": null,
            "grid_auto_flow": null,
            "grid_auto_rows": null,
            "grid_column": null,
            "grid_gap": null,
            "grid_row": null,
            "grid_template_areas": null,
            "grid_template_columns": null,
            "grid_template_rows": null,
            "height": null,
            "justify_content": null,
            "justify_items": null,
            "left": null,
            "margin": null,
            "max_height": null,
            "max_width": null,
            "min_height": null,
            "min_width": null,
            "object_fit": null,
            "object_position": null,
            "order": null,
            "overflow": null,
            "overflow_x": null,
            "overflow_y": null,
            "padding": null,
            "right": null,
            "top": null,
            "visibility": null,
            "width": null
          }
        },
        "55a86f0f66b641868631641380202004": {
          "model_module": "@jupyter-widgets/base",
          "model_name": "LayoutModel",
          "model_module_version": "1.2.0",
          "state": {
            "_model_module": "@jupyter-widgets/base",
            "_model_module_version": "1.2.0",
            "_model_name": "LayoutModel",
            "_view_count": null,
            "_view_module": "@jupyter-widgets/base",
            "_view_module_version": "1.2.0",
            "_view_name": "LayoutView",
            "align_content": null,
            "align_items": null,
            "align_self": null,
            "border": null,
            "bottom": null,
            "display": null,
            "flex": null,
            "flex_flow": null,
            "grid_area": null,
            "grid_auto_columns": null,
            "grid_auto_flow": null,
            "grid_auto_rows": null,
            "grid_column": null,
            "grid_gap": null,
            "grid_row": null,
            "grid_template_areas": null,
            "grid_template_columns": null,
            "grid_template_rows": null,
            "height": null,
            "justify_content": null,
            "justify_items": null,
            "left": null,
            "margin": null,
            "max_height": null,
            "max_width": null,
            "min_height": null,
            "min_width": null,
            "object_fit": null,
            "object_position": null,
            "order": null,
            "overflow": null,
            "overflow_x": null,
            "overflow_y": null,
            "padding": null,
            "right": null,
            "top": null,
            "visibility": null,
            "width": null
          }
        },
        "adc6a7bbd8934926b9fea6405cfad437": {
          "model_module": "@jupyter-widgets/controls",
          "model_name": "DescriptionStyleModel",
          "model_module_version": "1.5.0",
          "state": {
            "_model_module": "@jupyter-widgets/controls",
            "_model_module_version": "1.5.0",
            "_model_name": "DescriptionStyleModel",
            "_view_count": null,
            "_view_module": "@jupyter-widgets/base",
            "_view_module_version": "1.2.0",
            "_view_name": "StyleView",
            "description_width": ""
          }
        },
        "7e3a59804ba048d3a14ba1d58ee5d7d3": {
          "model_module": "@jupyter-widgets/base",
          "model_name": "LayoutModel",
          "model_module_version": "1.2.0",
          "state": {
            "_model_module": "@jupyter-widgets/base",
            "_model_module_version": "1.2.0",
            "_model_name": "LayoutModel",
            "_view_count": null,
            "_view_module": "@jupyter-widgets/base",
            "_view_module_version": "1.2.0",
            "_view_name": "LayoutView",
            "align_content": null,
            "align_items": null,
            "align_self": null,
            "border": null,
            "bottom": null,
            "display": null,
            "flex": null,
            "flex_flow": null,
            "grid_area": null,
            "grid_auto_columns": null,
            "grid_auto_flow": null,
            "grid_auto_rows": null,
            "grid_column": null,
            "grid_gap": null,
            "grid_row": null,
            "grid_template_areas": null,
            "grid_template_columns": null,
            "grid_template_rows": null,
            "height": null,
            "justify_content": null,
            "justify_items": null,
            "left": null,
            "margin": null,
            "max_height": null,
            "max_width": null,
            "min_height": null,
            "min_width": null,
            "object_fit": null,
            "object_position": null,
            "order": null,
            "overflow": null,
            "overflow_x": null,
            "overflow_y": null,
            "padding": null,
            "right": null,
            "top": null,
            "visibility": null,
            "width": null
          }
        },
        "c0683b568ce94652ac1c1acbea54d640": {
          "model_module": "@jupyter-widgets/controls",
          "model_name": "ProgressStyleModel",
          "model_module_version": "1.5.0",
          "state": {
            "_model_module": "@jupyter-widgets/controls",
            "_model_module_version": "1.5.0",
            "_model_name": "ProgressStyleModel",
            "_view_count": null,
            "_view_module": "@jupyter-widgets/base",
            "_view_module_version": "1.2.0",
            "_view_name": "StyleView",
            "bar_color": null,
            "description_width": ""
          }
        },
        "5456254705874a09aab153bfe32cc689": {
          "model_module": "@jupyter-widgets/base",
          "model_name": "LayoutModel",
          "model_module_version": "1.2.0",
          "state": {
            "_model_module": "@jupyter-widgets/base",
            "_model_module_version": "1.2.0",
            "_model_name": "LayoutModel",
            "_view_count": null,
            "_view_module": "@jupyter-widgets/base",
            "_view_module_version": "1.2.0",
            "_view_name": "LayoutView",
            "align_content": null,
            "align_items": null,
            "align_self": null,
            "border": null,
            "bottom": null,
            "display": null,
            "flex": null,
            "flex_flow": null,
            "grid_area": null,
            "grid_auto_columns": null,
            "grid_auto_flow": null,
            "grid_auto_rows": null,
            "grid_column": null,
            "grid_gap": null,
            "grid_row": null,
            "grid_template_areas": null,
            "grid_template_columns": null,
            "grid_template_rows": null,
            "height": null,
            "justify_content": null,
            "justify_items": null,
            "left": null,
            "margin": null,
            "max_height": null,
            "max_width": null,
            "min_height": null,
            "min_width": null,
            "object_fit": null,
            "object_position": null,
            "order": null,
            "overflow": null,
            "overflow_x": null,
            "overflow_y": null,
            "padding": null,
            "right": null,
            "top": null,
            "visibility": null,
            "width": null
          }
        },
        "73225fb2b59a455db211cf2125536be8": {
          "model_module": "@jupyter-widgets/controls",
          "model_name": "DescriptionStyleModel",
          "model_module_version": "1.5.0",
          "state": {
            "_model_module": "@jupyter-widgets/controls",
            "_model_module_version": "1.5.0",
            "_model_name": "DescriptionStyleModel",
            "_view_count": null,
            "_view_module": "@jupyter-widgets/base",
            "_view_module_version": "1.2.0",
            "_view_name": "StyleView",
            "description_width": ""
          }
        },
        "ce7d4464379f484093447e355e89b1e1": {
          "model_module": "@jupyter-widgets/controls",
          "model_name": "HBoxModel",
          "model_module_version": "1.5.0",
          "state": {
            "_dom_classes": [],
            "_model_module": "@jupyter-widgets/controls",
            "_model_module_version": "1.5.0",
            "_model_name": "HBoxModel",
            "_view_count": null,
            "_view_module": "@jupyter-widgets/controls",
            "_view_module_version": "1.5.0",
            "_view_name": "HBoxView",
            "box_style": "",
            "children": [
              "IPY_MODEL_b056a3d8b7544c249dbb4d810aefcf51",
              "IPY_MODEL_c77b89eda535457fb791674a4654ca23",
              "IPY_MODEL_caffdf9faaa14030991dc9149134d172"
            ],
            "layout": "IPY_MODEL_ad442544d345423890f529f78cfc9420"
          }
        },
        "b056a3d8b7544c249dbb4d810aefcf51": {
          "model_module": "@jupyter-widgets/controls",
          "model_name": "HTMLModel",
          "model_module_version": "1.5.0",
          "state": {
            "_dom_classes": [],
            "_model_module": "@jupyter-widgets/controls",
            "_model_module_version": "1.5.0",
            "_model_name": "HTMLModel",
            "_view_count": null,
            "_view_module": "@jupyter-widgets/controls",
            "_view_module_version": "1.5.0",
            "_view_name": "HTMLView",
            "description": "",
            "description_tooltip": null,
            "layout": "IPY_MODEL_452340f8d0bf48bc812fbee4217d1b81",
            "placeholder": "​",
            "style": "IPY_MODEL_4c621c8ba364495e88ef3014642e2a54",
            "value": "100%"
          }
        },
        "c77b89eda535457fb791674a4654ca23": {
          "model_module": "@jupyter-widgets/controls",
          "model_name": "FloatProgressModel",
          "model_module_version": "1.5.0",
          "state": {
            "_dom_classes": [],
            "_model_module": "@jupyter-widgets/controls",
            "_model_module_version": "1.5.0",
            "_model_name": "FloatProgressModel",
            "_view_count": null,
            "_view_module": "@jupyter-widgets/controls",
            "_view_module_version": "1.5.0",
            "_view_name": "ProgressView",
            "bar_style": "success",
            "description": "",
            "description_tooltip": null,
            "layout": "IPY_MODEL_9593e0558525415f92b55dafde108621",
            "max": 4422102,
            "min": 0,
            "orientation": "horizontal",
            "style": "IPY_MODEL_5a3cd9e2955d4d1290783563695baf8f",
            "value": 4422102
          }
        },
        "caffdf9faaa14030991dc9149134d172": {
          "model_module": "@jupyter-widgets/controls",
          "model_name": "HTMLModel",
          "model_module_version": "1.5.0",
          "state": {
            "_dom_classes": [],
            "_model_module": "@jupyter-widgets/controls",
            "_model_module_version": "1.5.0",
            "_model_name": "HTMLModel",
            "_view_count": null,
            "_view_module": "@jupyter-widgets/controls",
            "_view_module_version": "1.5.0",
            "_view_name": "HTMLView",
            "description": "",
            "description_tooltip": null,
            "layout": "IPY_MODEL_f6d50a04ddd44d098b8167657bcffe9c",
            "placeholder": "​",
            "style": "IPY_MODEL_4ee29cfc724e4a499b1249461611ed51",
            "value": " 4422102/4422102 [00:01&lt;00:00, 7526842.77it/s]"
          }
        },
        "ad442544d345423890f529f78cfc9420": {
          "model_module": "@jupyter-widgets/base",
          "model_name": "LayoutModel",
          "model_module_version": "1.2.0",
          "state": {
            "_model_module": "@jupyter-widgets/base",
            "_model_module_version": "1.2.0",
            "_model_name": "LayoutModel",
            "_view_count": null,
            "_view_module": "@jupyter-widgets/base",
            "_view_module_version": "1.2.0",
            "_view_name": "LayoutView",
            "align_content": null,
            "align_items": null,
            "align_self": null,
            "border": null,
            "bottom": null,
            "display": null,
            "flex": null,
            "flex_flow": null,
            "grid_area": null,
            "grid_auto_columns": null,
            "grid_auto_flow": null,
            "grid_auto_rows": null,
            "grid_column": null,
            "grid_gap": null,
            "grid_row": null,
            "grid_template_areas": null,
            "grid_template_columns": null,
            "grid_template_rows": null,
            "height": null,
            "justify_content": null,
            "justify_items": null,
            "left": null,
            "margin": null,
            "max_height": null,
            "max_width": null,
            "min_height": null,
            "min_width": null,
            "object_fit": null,
            "object_position": null,
            "order": null,
            "overflow": null,
            "overflow_x": null,
            "overflow_y": null,
            "padding": null,
            "right": null,
            "top": null,
            "visibility": null,
            "width": null
          }
        },
        "452340f8d0bf48bc812fbee4217d1b81": {
          "model_module": "@jupyter-widgets/base",
          "model_name": "LayoutModel",
          "model_module_version": "1.2.0",
          "state": {
            "_model_module": "@jupyter-widgets/base",
            "_model_module_version": "1.2.0",
            "_model_name": "LayoutModel",
            "_view_count": null,
            "_view_module": "@jupyter-widgets/base",
            "_view_module_version": "1.2.0",
            "_view_name": "LayoutView",
            "align_content": null,
            "align_items": null,
            "align_self": null,
            "border": null,
            "bottom": null,
            "display": null,
            "flex": null,
            "flex_flow": null,
            "grid_area": null,
            "grid_auto_columns": null,
            "grid_auto_flow": null,
            "grid_auto_rows": null,
            "grid_column": null,
            "grid_gap": null,
            "grid_row": null,
            "grid_template_areas": null,
            "grid_template_columns": null,
            "grid_template_rows": null,
            "height": null,
            "justify_content": null,
            "justify_items": null,
            "left": null,
            "margin": null,
            "max_height": null,
            "max_width": null,
            "min_height": null,
            "min_width": null,
            "object_fit": null,
            "object_position": null,
            "order": null,
            "overflow": null,
            "overflow_x": null,
            "overflow_y": null,
            "padding": null,
            "right": null,
            "top": null,
            "visibility": null,
            "width": null
          }
        },
        "4c621c8ba364495e88ef3014642e2a54": {
          "model_module": "@jupyter-widgets/controls",
          "model_name": "DescriptionStyleModel",
          "model_module_version": "1.5.0",
          "state": {
            "_model_module": "@jupyter-widgets/controls",
            "_model_module_version": "1.5.0",
            "_model_name": "DescriptionStyleModel",
            "_view_count": null,
            "_view_module": "@jupyter-widgets/base",
            "_view_module_version": "1.2.0",
            "_view_name": "StyleView",
            "description_width": ""
          }
        },
        "9593e0558525415f92b55dafde108621": {
          "model_module": "@jupyter-widgets/base",
          "model_name": "LayoutModel",
          "model_module_version": "1.2.0",
          "state": {
            "_model_module": "@jupyter-widgets/base",
            "_model_module_version": "1.2.0",
            "_model_name": "LayoutModel",
            "_view_count": null,
            "_view_module": "@jupyter-widgets/base",
            "_view_module_version": "1.2.0",
            "_view_name": "LayoutView",
            "align_content": null,
            "align_items": null,
            "align_self": null,
            "border": null,
            "bottom": null,
            "display": null,
            "flex": null,
            "flex_flow": null,
            "grid_area": null,
            "grid_auto_columns": null,
            "grid_auto_flow": null,
            "grid_auto_rows": null,
            "grid_column": null,
            "grid_gap": null,
            "grid_row": null,
            "grid_template_areas": null,
            "grid_template_columns": null,
            "grid_template_rows": null,
            "height": null,
            "justify_content": null,
            "justify_items": null,
            "left": null,
            "margin": null,
            "max_height": null,
            "max_width": null,
            "min_height": null,
            "min_width": null,
            "object_fit": null,
            "object_position": null,
            "order": null,
            "overflow": null,
            "overflow_x": null,
            "overflow_y": null,
            "padding": null,
            "right": null,
            "top": null,
            "visibility": null,
            "width": null
          }
        },
        "5a3cd9e2955d4d1290783563695baf8f": {
          "model_module": "@jupyter-widgets/controls",
          "model_name": "ProgressStyleModel",
          "model_module_version": "1.5.0",
          "state": {
            "_model_module": "@jupyter-widgets/controls",
            "_model_module_version": "1.5.0",
            "_model_name": "ProgressStyleModel",
            "_view_count": null,
            "_view_module": "@jupyter-widgets/base",
            "_view_module_version": "1.2.0",
            "_view_name": "StyleView",
            "bar_color": null,
            "description_width": ""
          }
        },
        "f6d50a04ddd44d098b8167657bcffe9c": {
          "model_module": "@jupyter-widgets/base",
          "model_name": "LayoutModel",
          "model_module_version": "1.2.0",
          "state": {
            "_model_module": "@jupyter-widgets/base",
            "_model_module_version": "1.2.0",
            "_model_name": "LayoutModel",
            "_view_count": null,
            "_view_module": "@jupyter-widgets/base",
            "_view_module_version": "1.2.0",
            "_view_name": "LayoutView",
            "align_content": null,
            "align_items": null,
            "align_self": null,
            "border": null,
            "bottom": null,
            "display": null,
            "flex": null,
            "flex_flow": null,
            "grid_area": null,
            "grid_auto_columns": null,
            "grid_auto_flow": null,
            "grid_auto_rows": null,
            "grid_column": null,
            "grid_gap": null,
            "grid_row": null,
            "grid_template_areas": null,
            "grid_template_columns": null,
            "grid_template_rows": null,
            "height": null,
            "justify_content": null,
            "justify_items": null,
            "left": null,
            "margin": null,
            "max_height": null,
            "max_width": null,
            "min_height": null,
            "min_width": null,
            "object_fit": null,
            "object_position": null,
            "order": null,
            "overflow": null,
            "overflow_x": null,
            "overflow_y": null,
            "padding": null,
            "right": null,
            "top": null,
            "visibility": null,
            "width": null
          }
        },
        "4ee29cfc724e4a499b1249461611ed51": {
          "model_module": "@jupyter-widgets/controls",
          "model_name": "DescriptionStyleModel",
          "model_module_version": "1.5.0",
          "state": {
            "_model_module": "@jupyter-widgets/controls",
            "_model_module_version": "1.5.0",
            "_model_name": "DescriptionStyleModel",
            "_view_count": null,
            "_view_module": "@jupyter-widgets/base",
            "_view_module_version": "1.2.0",
            "_view_name": "StyleView",
            "description_width": ""
          }
        },
        "0a17662e30594914a61c525e1a521c69": {
          "model_module": "@jupyter-widgets/controls",
          "model_name": "HBoxModel",
          "model_module_version": "1.5.0",
          "state": {
            "_dom_classes": [],
            "_model_module": "@jupyter-widgets/controls",
            "_model_module_version": "1.5.0",
            "_model_name": "HBoxModel",
            "_view_count": null,
            "_view_module": "@jupyter-widgets/controls",
            "_view_module_version": "1.5.0",
            "_view_name": "HBoxView",
            "box_style": "",
            "children": [
              "IPY_MODEL_21e6f0e9d6034067ab33da3d6339abe3",
              "IPY_MODEL_332bc8445ec64535bb183e8bfe9d7756",
              "IPY_MODEL_08d06900c4d341fcae8609325635386c"
            ],
            "layout": "IPY_MODEL_2da1925e9e4d4080aada1e1b73c5db72"
          }
        },
        "21e6f0e9d6034067ab33da3d6339abe3": {
          "model_module": "@jupyter-widgets/controls",
          "model_name": "HTMLModel",
          "model_module_version": "1.5.0",
          "state": {
            "_dom_classes": [],
            "_model_module": "@jupyter-widgets/controls",
            "_model_module_version": "1.5.0",
            "_model_name": "HTMLModel",
            "_view_count": null,
            "_view_module": "@jupyter-widgets/controls",
            "_view_module_version": "1.5.0",
            "_view_name": "HTMLView",
            "description": "",
            "description_tooltip": null,
            "layout": "IPY_MODEL_71f9b402e21b4c35a773cb80baffcc60",
            "placeholder": "​",
            "style": "IPY_MODEL_047a189668c44cdd96073fd8c6bacc84",
            "value": "100%"
          }
        },
        "332bc8445ec64535bb183e8bfe9d7756": {
          "model_module": "@jupyter-widgets/controls",
          "model_name": "FloatProgressModel",
          "model_module_version": "1.5.0",
          "state": {
            "_dom_classes": [],
            "_model_module": "@jupyter-widgets/controls",
            "_model_module_version": "1.5.0",
            "_model_name": "FloatProgressModel",
            "_view_count": null,
            "_view_module": "@jupyter-widgets/controls",
            "_view_module_version": "1.5.0",
            "_view_name": "ProgressView",
            "bar_style": "success",
            "description": "",
            "description_tooltip": null,
            "layout": "IPY_MODEL_797787ca27ae4586b3b6d580cc171ebe",
            "max": 5148,
            "min": 0,
            "orientation": "horizontal",
            "style": "IPY_MODEL_91bb6ef439bc4dafbb46035d9c03b37e",
            "value": 5148
          }
        },
        "08d06900c4d341fcae8609325635386c": {
          "model_module": "@jupyter-widgets/controls",
          "model_name": "HTMLModel",
          "model_module_version": "1.5.0",
          "state": {
            "_dom_classes": [],
            "_model_module": "@jupyter-widgets/controls",
            "_model_module_version": "1.5.0",
            "_model_name": "HTMLModel",
            "_view_count": null,
            "_view_module": "@jupyter-widgets/controls",
            "_view_module_version": "1.5.0",
            "_view_name": "HTMLView",
            "description": "",
            "description_tooltip": null,
            "layout": "IPY_MODEL_6c351ff8261742cc9160360ef25c916f",
            "placeholder": "​",
            "style": "IPY_MODEL_8c8edb21214f4e06b959cbecc119617e",
            "value": " 5148/5148 [00:00&lt;00:00, 89957.70it/s]"
          }
        },
        "2da1925e9e4d4080aada1e1b73c5db72": {
          "model_module": "@jupyter-widgets/base",
          "model_name": "LayoutModel",
          "model_module_version": "1.2.0",
          "state": {
            "_model_module": "@jupyter-widgets/base",
            "_model_module_version": "1.2.0",
            "_model_name": "LayoutModel",
            "_view_count": null,
            "_view_module": "@jupyter-widgets/base",
            "_view_module_version": "1.2.0",
            "_view_name": "LayoutView",
            "align_content": null,
            "align_items": null,
            "align_self": null,
            "border": null,
            "bottom": null,
            "display": null,
            "flex": null,
            "flex_flow": null,
            "grid_area": null,
            "grid_auto_columns": null,
            "grid_auto_flow": null,
            "grid_auto_rows": null,
            "grid_column": null,
            "grid_gap": null,
            "grid_row": null,
            "grid_template_areas": null,
            "grid_template_columns": null,
            "grid_template_rows": null,
            "height": null,
            "justify_content": null,
            "justify_items": null,
            "left": null,
            "margin": null,
            "max_height": null,
            "max_width": null,
            "min_height": null,
            "min_width": null,
            "object_fit": null,
            "object_position": null,
            "order": null,
            "overflow": null,
            "overflow_x": null,
            "overflow_y": null,
            "padding": null,
            "right": null,
            "top": null,
            "visibility": null,
            "width": null
          }
        },
        "71f9b402e21b4c35a773cb80baffcc60": {
          "model_module": "@jupyter-widgets/base",
          "model_name": "LayoutModel",
          "model_module_version": "1.2.0",
          "state": {
            "_model_module": "@jupyter-widgets/base",
            "_model_module_version": "1.2.0",
            "_model_name": "LayoutModel",
            "_view_count": null,
            "_view_module": "@jupyter-widgets/base",
            "_view_module_version": "1.2.0",
            "_view_name": "LayoutView",
            "align_content": null,
            "align_items": null,
            "align_self": null,
            "border": null,
            "bottom": null,
            "display": null,
            "flex": null,
            "flex_flow": null,
            "grid_area": null,
            "grid_auto_columns": null,
            "grid_auto_flow": null,
            "grid_auto_rows": null,
            "grid_column": null,
            "grid_gap": null,
            "grid_row": null,
            "grid_template_areas": null,
            "grid_template_columns": null,
            "grid_template_rows": null,
            "height": null,
            "justify_content": null,
            "justify_items": null,
            "left": null,
            "margin": null,
            "max_height": null,
            "max_width": null,
            "min_height": null,
            "min_width": null,
            "object_fit": null,
            "object_position": null,
            "order": null,
            "overflow": null,
            "overflow_x": null,
            "overflow_y": null,
            "padding": null,
            "right": null,
            "top": null,
            "visibility": null,
            "width": null
          }
        },
        "047a189668c44cdd96073fd8c6bacc84": {
          "model_module": "@jupyter-widgets/controls",
          "model_name": "DescriptionStyleModel",
          "model_module_version": "1.5.0",
          "state": {
            "_model_module": "@jupyter-widgets/controls",
            "_model_module_version": "1.5.0",
            "_model_name": "DescriptionStyleModel",
            "_view_count": null,
            "_view_module": "@jupyter-widgets/base",
            "_view_module_version": "1.2.0",
            "_view_name": "StyleView",
            "description_width": ""
          }
        },
        "797787ca27ae4586b3b6d580cc171ebe": {
          "model_module": "@jupyter-widgets/base",
          "model_name": "LayoutModel",
          "model_module_version": "1.2.0",
          "state": {
            "_model_module": "@jupyter-widgets/base",
            "_model_module_version": "1.2.0",
            "_model_name": "LayoutModel",
            "_view_count": null,
            "_view_module": "@jupyter-widgets/base",
            "_view_module_version": "1.2.0",
            "_view_name": "LayoutView",
            "align_content": null,
            "align_items": null,
            "align_self": null,
            "border": null,
            "bottom": null,
            "display": null,
            "flex": null,
            "flex_flow": null,
            "grid_area": null,
            "grid_auto_columns": null,
            "grid_auto_flow": null,
            "grid_auto_rows": null,
            "grid_column": null,
            "grid_gap": null,
            "grid_row": null,
            "grid_template_areas": null,
            "grid_template_columns": null,
            "grid_template_rows": null,
            "height": null,
            "justify_content": null,
            "justify_items": null,
            "left": null,
            "margin": null,
            "max_height": null,
            "max_width": null,
            "min_height": null,
            "min_width": null,
            "object_fit": null,
            "object_position": null,
            "order": null,
            "overflow": null,
            "overflow_x": null,
            "overflow_y": null,
            "padding": null,
            "right": null,
            "top": null,
            "visibility": null,
            "width": null
          }
        },
        "91bb6ef439bc4dafbb46035d9c03b37e": {
          "model_module": "@jupyter-widgets/controls",
          "model_name": "ProgressStyleModel",
          "model_module_version": "1.5.0",
          "state": {
            "_model_module": "@jupyter-widgets/controls",
            "_model_module_version": "1.5.0",
            "_model_name": "ProgressStyleModel",
            "_view_count": null,
            "_view_module": "@jupyter-widgets/base",
            "_view_module_version": "1.2.0",
            "_view_name": "StyleView",
            "bar_color": null,
            "description_width": ""
          }
        },
        "6c351ff8261742cc9160360ef25c916f": {
          "model_module": "@jupyter-widgets/base",
          "model_name": "LayoutModel",
          "model_module_version": "1.2.0",
          "state": {
            "_model_module": "@jupyter-widgets/base",
            "_model_module_version": "1.2.0",
            "_model_name": "LayoutModel",
            "_view_count": null,
            "_view_module": "@jupyter-widgets/base",
            "_view_module_version": "1.2.0",
            "_view_name": "LayoutView",
            "align_content": null,
            "align_items": null,
            "align_self": null,
            "border": null,
            "bottom": null,
            "display": null,
            "flex": null,
            "flex_flow": null,
            "grid_area": null,
            "grid_auto_columns": null,
            "grid_auto_flow": null,
            "grid_auto_rows": null,
            "grid_column": null,
            "grid_gap": null,
            "grid_row": null,
            "grid_template_areas": null,
            "grid_template_columns": null,
            "grid_template_rows": null,
            "height": null,
            "justify_content": null,
            "justify_items": null,
            "left": null,
            "margin": null,
            "max_height": null,
            "max_width": null,
            "min_height": null,
            "min_width": null,
            "object_fit": null,
            "object_position": null,
            "order": null,
            "overflow": null,
            "overflow_x": null,
            "overflow_y": null,
            "padding": null,
            "right": null,
            "top": null,
            "visibility": null,
            "width": null
          }
        },
        "8c8edb21214f4e06b959cbecc119617e": {
          "model_module": "@jupyter-widgets/controls",
          "model_name": "DescriptionStyleModel",
          "model_module_version": "1.5.0",
          "state": {
            "_model_module": "@jupyter-widgets/controls",
            "_model_module_version": "1.5.0",
            "_model_name": "DescriptionStyleModel",
            "_view_count": null,
            "_view_module": "@jupyter-widgets/base",
            "_view_module_version": "1.2.0",
            "_view_name": "StyleView",
            "description_width": ""
          }
        }
      }
    }
  },
  "cells": [
    {
      "cell_type": "markdown",
      "metadata": {
        "id": "view-in-github",
        "colab_type": "text"
      },
      "source": [
        "<a href=\"https://colab.research.google.com/github/Gbemi123/GANs-with-MNIST-Fashion-dataset/blob/main/GANs_MNIST_fashion.ipynb\" target=\"_parent\"><img src=\"https://colab.research.google.com/assets/colab-badge.svg\" alt=\"Open In Colab\"/></a>"
      ]
    },
    {
      "cell_type": "markdown",
      "source": [
        "# Generative Adversial Networks"
      ],
      "metadata": {
        "id": "KokbN0GGDNuP"
      }
    },
    {
      "cell_type": "markdown",
      "source": [],
      "metadata": {
        "id": "9dxqWKynbRlx"
      }
    },
    {
      "cell_type": "markdown",
      "source": [
        "![image.png](data:image/png;base64,iVBORw0KGgoAAAANSUhEUgAAAb0AAAIPCAYAAADnxACnAAAgAElEQVR4nOzdf1hUZf4//mfzmXUYPwIrai7hsCSrcRlFSI1voERXw3csrLSSq6zmD0wWy0L2vZL5a30r+eO9IWUr+QsrNnINV3zD6sbaKpZwNfmLIi+rpWZBIkMwpE/DofmO3z+Gc5wzM8BgMwxwno/r4mKYueec+wwwr7nv+3XfN0BERERERERERERERERERERERERERERERERERERERERERERERERERERENDjd5u0KuJnBf3hAmLcrQQNL67WWFgBTABi9XRci8qxBFfT8hwdcP1n9b19v14MGlorjx7D+d79ta73Wci8Y+IgGNZW3K0DkbXHTH8GGF17x9R8e8CGAEG/Xh4g8h0GPCED0Qz9n4CNSAAY9IgBDNBq2+IgUgEGPyAZbfESDG4MekQ22+IgGNwY9IifY4iManBj0iJxgi49ocGLQI+qGGPgAnPR2XYjoh2PQI+pB3PRHoNUOHertehDRD6f2dgX6k5bmJhhrP+vy8ZDQcQgYMaoPayQn1s/b9RDVGWtx9esr/aY+REQ9YdCzUXnyH1i7Ir3bMvrYOGx+eb9X3uTF+m3cvguJs1L7/Pz2/l7yFvJzc7Cv+O1+EfRampvw6s7tWLhsRb+oDxH1Pwx6Tsx/YjmmzEiU3dd2vRXvHC1BaXERVj21CLveLPNS7agrxYX7ULhnB1LmpzHoEZFTDHpOjJ8Qjon6GIf746Y/giuNDTCcrkCdsRbBIaFeqB0REd0qBr1eumvCvTCcrsDVr69IQa9DEFBedgiG0xW40tgAABgdGITkOQtkwTN343MYPyEc90ZNwt6Xtkllk1JSHborOwQBr+Zvx9n33wMATI3/hWWYn7/TxKNzhkqUHHhNOl7UpAcdWju787YAAP4z+THZudNXPIeJ+hjZMUYHBmHJ0ytvKai7eo0Vx4/hnaMlyFy9Ca/u3I5PLn4olYtPnIUhGg0A67jh3pe2ObyWALAuKx362DgkzkrF7rwtOFFubX3vfWkbxgTfiaWZz/a6/kQ0uDF7sxc6BAHHj5YAsCa1iDatehprV6TjSmMD7ppwL0YHBqG87LA5LWUGzhkqpXLHj5bgjX07MTs+2vzZpY8xOjAI9cbPsXZFuhSUxPMkT4lEfm4OAGsAfX33DtXOP25yqNOB/fmWtJQZOFP1rnTu/NwczEuMQ52xVip39v33UPKX1/HbuUkQz1191mBOS5mB3XlbsGxeslksW1pchN/OTUKHIPT6NbK9RjGAitd4YH++RSz3SU01SouLMC8xDh9UnULUpAcBAGtXpGPTqqel4139+gpKi4vwZb3jjj+lxUUwnK7odR2JSLnY0nPC2Rvpl/V1OFFehsaGesx/YrnUijpnqERpcRHmP7EcWWufl8onz1mgTkuZgZNvl8laKJdqqpG9YZtqzqIMADcDXMHOXPPSzGfVAPBq/nY0NtTLElZampswLzFOVqc6Yy22rl+p0sfGYcerh6TWUfKcBUhLmYGcVc/Ixh4bG+qRkbVaagGJdczPzcGRUxfUYstud94W5OfmoKb6rNNu3p5cqqnGxu271LZ1T4i+23zkrTfU4nWLdCFjZXUXzz0tIRlx0x9x+ZziNV2qqb7lVioRDX4Mek6UFhehtLjI4f6w8AiHzMmQ0HHIKziIeyLvl5UVg8U315pl92t8tOZfpS6WXvchGg3uj34IpcVF0n0lf3kdgUE62XkCRozC40uXW7auXym1zv9e8hYAaxelGDTEcyelpKK0uMhh7HFhxgqHOupj42Rl7gqPAAB8WW+8paDnrO4RUXq1sw8T9nVfmLEC+bk5eOdoSa+CHhGRKxj0nMjesM0SMzVeBVi71/7nDyvxxb8+Nf8mbZnafuwtYMQoxE1/BOcMlSj/32LLl5frVZ9c/BD1xs+dHjtgxEi17Zu8M40N9UhKcZySMP7uCFl39OW6LwAA4RFRDmX1sXEoLS7CF//6VApogUE6ODv36MAg2c++fv7d1q8nupCxPZ5DZB9Uh2g0CAzS4bNLH/+gOhAROcOg58QwP3+VGCiCQ0Lx2uF3sODRaWpxDp9t4OsQBCxfOEvsElWFhUdgXNjdSEpJ7XHOX2+NvH207GcxSaS7INrWes2tdegrrddavF0FIhqEmMjigiEaDbbufA0AsGlVptk2QeTV/O0wnK5ARtZqvP/ZVbx59D38d+4uxCfOuuXzaXy0ZjGg2friX5/KfhZbTy3NTQ5lv6yvAwDcoevf6yQ7S5Zpab5qtm8tfnu91SIv43jNREQ9YdBzUXBIKDKyVkNoN6lzVj0j3S9OKViYsULW4qp695+3fK74xEfVhtMVDm/sZ6velf2sj7UmtpT/b7EsIHQIAk6Ul0HjozU76/rsT8rLDsl+rjh+DEK7ST01/hcW4Gbr9svL9bK/1Y/On+mrKhLRIMKg1wsLM1YgLDwChtMVKDtkTXS5a8K9AKwtvg5BQIcgoOxQEbKXLTADN7sge2PJ0ysBAPMS43DOUIk6Yy0O7M+3FO7ZISsXnzgLYeERyNu83nJgf76lpbkJdcZaLF84C5dqqrF4WVaP44fetmlVprni+DHUGWtRcfwYtq79HQKDdIj/ZYoKAH4SOAaBQTocLNxrLjtkTcwpO1SErWt/1+Uxiwv3oeL4sT67BiIaOBj0emGIRoPf/2EbAOubdUtzE55auR762Djk5+Zg0riRmDRuJHb+cRO27nxNrY+NQ73x817PdwsOCUVewUEAQFrKDMycfB/yNq+3ZGStdqjPnwoPIyJKr966fqVqWuRYzJx8H6rPGszZG7ZZBsLk7Nnzl6gzF8/GzMn3IXPxbPgPD8Arb5ZKU0KGaDTI3vgCAkaMVK9dkY6Zk+/DplWZ5mX/tQaBQTrZsf4z+TEEBulQuGdHt0GRiJTrNm9XwJ38hwdcP1n9b19vnFvccQCwZlO6o4XVIQioqT7r0jE9cX5PEufjHTl1AcN8/WCs/Qwjbx/d5fw6V1+LDkHAV42XMczXz63rb8bcNbrJZPrudrcdkIi8gtmbbhIcEur2CdFDNBqX58l54vx9JWDEqB4DlKuvxRCNZsC+DkTkeezeJCIixWDQI6+4QxcMfWwchvn6ebsqRKQgHNMjcgHH9IgGB7b0iIhIMRj0iIhIMRj0iIhIMRj0+gFxFRdXVhGpOH5MWg2GiIh6h0GvHxii0WDnHzchc/HsbldvaWluQubi2R7bLbzOWIv0uYkeOTYRUX/AoNdPJP/6cQCOCzDbKi7cBwCYlpDskTrsfWmbxwIqEVF/wKDXT6TMTwMApzu2i06UlyEwSMcdxYmIbhGDXj8RMGIU9LFxcLalEACcM1TiUk211CIUtTQ3YXfeFsxNeBAJ0ROQPjexy7HBskNFSJ+biIToCZib8CB2522RulNzNz6HM51bF63LSpeNG9YZa7EuKx0J0ROQED0B67LSHc5RcfwY1mWlS12kCdETcGB/vmzLIyIib2PQ60dS054E4Lg/HgCUHLBuYiu2CAFrwJuXaN3hYVzY3VJAzFw8G7kbn5M9f11WurSTe/KvH8e4sLuRn5uD5Qu73+z2nKESs+OjzeVlh83TE5KR/OvH8dmlj5G5eLYsqH1SU43S4iJkL1uAeuPnAIDrra38+yKifoULTvcj0Q/9HIFBOhx56w3VnEUZ0v0dgoDyssNmfWyc2nZh5rycNWhsqMe+4rdlizGvy0pH4Z4dSJmfhuCQUJwzVKK0uAhJKan479xdUrkxwXciPzcHFcePIWvt8/jmWjNKi4tkZdY8swQAcLTqY+ncCzNWYPnCWdi6fqUqZmq8bIFnP/8f47XD72CIRtPrLZWIiDyNn8T7kSEaDaYnJONSTTXqjLXS/eVlhyC0m9RiS/Dm/YfN+tg4h90HxE1oxcSXk2+XAQAyV2+SlVuYsQJ5BQdxT+T9TutzzlCJxoZ6LF6WJQu2QzQapK+wtiT/XvKW7DlJKanStj/9fXsjIlIetvT6mZT5aSjcswN/L3kL4iawpcVFCAzSIfqhn0vl6oy1ENpN6nrj511OM/jk4ofSd42P1hwwYpTs9z1Eo+k2KebLeiMA4K7wCIfHwiOiAACX676Q3X+HLqTHayQi8ha29PqZ4JBQhIVHoOQvrwOwjtsZTldgekKy05aT//AAjA4McvhKSklF1KQHpXIBI0b2yQeckbeP7ovTEBHdErb0+qHfpC3D2hXpOGeoxKcfV1sAqGwTWABIW/KMC7tbNgYnamlukjZmHR0YBMPpCnQIgkPg3J23BffHTHa6QavYamusN1pg9wHpq8bLAIAfDx9xaxdJROQFbOn1Q/GJs6Dx0ZpLDryGI2+9odLHxjnsBh4wYhTCwiNQXnbYbD/FoeL4MUyLHIvdeVsAAPrYOACOE9/PGSqRn5sjBlYH4RFR0PhozUfeekNln5QijhdGRT/0A66UiKhvMej1Q0M0Gsyev0RdXnbYfKmmGkkpqU7L/f4P2yC0m9TzEuNQcfwY6oy1KDtUhK1rfweNj9Ystg7jE2chLDwCm1ZlmssOFaHOWIuK48ew5pklCAzSIf6XKSrgZqttd94WVBw/hiEaDTJXbVBdqqnG8oWzcM5QiTpjLXI3PofCPTugj43jRHkiGlDYvdlPTZmRiMI9O9QaH605PnGW09/TRH0M8goOYuva3yFz8Wzp/rDwCLzyZqmUcTlEo8GfCg9j1VOL1OJcPcDaAly9+UWpG3TKjEQcP1qC/NwchIVHIG76I5izKEMFwJK3eb0lLWWGVI/5TyzHUyvXe+TaiYg8hTunDxItzU0w1n6GkNBxsJ1e4Kzct23XMczXr8tydcZa/CRwjGz8r0MQpHE8+8eUgDunEw0ODHpELmDQIxocOKZHRESKwaBHRESKwaBHRESKwaBHRESKMagSWbTaoV97uw4DxRAfH5+O9vZ2b9djoDCZvjMC0Hu7HkREdGuM3q4AEVFfY/cmEREpBoMeEREpBoMeEREpBoMeEREpBoMeEREpBoMeEREpBoMeEREpBoMeEREpBoMeEREpBoMeEREpBoMeEREpBoMeEREpBoMeEREpBoMeEREpBoMeEREpBoMeEREpBoMeEREpBoMeEREpBoMeEREpBoMeEREpBoMeEREpBoMeEREpBoMeEREpBoMeEREpBoMeEREpBoMeEREpBoMeEREpBoMeEREpBoMeEREpBoMeEREpBoMeEREpBoMeEREpBoMeEREpBoMeERERDWpGjY/2e6126NcAjAB8vV0hIiIij9D4aL8HcKPz66iXq0NERORRR3Ez6EV7uS5EREQelWXTvUlEpBhqb1eAvOJzod2kBrDF2xUhIiLyNN/OcT0msBCRotzm7Qr0EwatdmiItyvRlyw3bgxX3XbbNW/Xo6+ZTN+dAZDg7XoQkXcw6AEIDNLdOFp10dvV6FMdgoAhGo23q9HnHn5gfMfVK43Ku3AiAsDJ6YqlxIBHRMSgR0REisGgR0REisGgR0REisGgR0REisGgR0REisGgR0REisGgR0REisGgR0REisGgR0REisGgR0REisGgR0REisGgR0REisGgR0REisGgR0REisGgR0REisGgR0REisGgR0REisGgR0REiqH2dgUGqzpjLf5e8hbOvv8e6o2fw394APz8f4yp8b+wxP8yRRUwYpS3q+hRLc1NGOzXSEQDD4OeB5QdKsLaFemy+xob6gEAhtMVqtd378Arb5YiOCTUG9XzqDpjLXJWPYOoSQ9iaeaz3q4OEZEMg56b2Qe8pJRUjAm+EwBworwMl2qq0dhQj9/OTULJyfMYotF4q6oeMXPyfQCAqEkPerkmRESOGPTcqKW5CZtWZZoBqDU+WvPB8iq1bWtuYcYKLF84C4bTFWhsqEd52SEkzkqVHaNDEPBV42UAcLkl2NLchG/brndbXjzuMF8/l7od64y1DmVt6+bqcbqrr6vHaGluAgB2lxLRD8ZEFjeqPPkPCO0mNQBkrtqgsg9CQzQarN78IrI3bLPsK34bMVMelh7rEATsztuCyffozDMn34eZk+9DQvQEHNifb7E9xu68LYgM9kVC9AScM1QiIXoCpkWOlcpXHD8mO2dLcxPWZaVj0riRmDn5PkyLHIu5CQ/inKFSVi4hegIig32xO28L0ucmSmXFcvZ1mxY5Vna+c4ZKRAb7SsfLz81BZLCv7DwVx49hbsKDUn27qsu6rHREBvsifW4icjc+h2mRYzEtcqzDa0FE1FsMem5kOF0h3Y6ZGu/0tQ0OCcWcRRmqifoYWcvl5W0bkJ+bA6HdpA4M0iEwSIfGhnpsXb9S5ezNvqX5qnnZvGQzAISFRwCwjhtmL1tg7hAEANZA+uT8R1FaXASxnMZHa75UU41l85LN9sEGAAp25prF69D4aM3hEVE4sD/fYls32/NlLp4ttcS6U3aoCJmLZ+NSTTUAIDBIBwC4VFONtJQZDsEaAKrPGsyFe3ZIP3f1mhIRuYpvIm50pbFBum3bymtpbsLuvC0OX2WHrMGozlgL8c09KSUVR6su4mjVRSSlWLs+8zavt4iBTCS0m9TxiY+qS06ex5tH38P8J5ZL99dUnwUA/LWowCIGmbyCg3jz6Hs49VG9Oiw8AkK7Sb1r+/MO1yC0m9QZWatx5NQF7PxziXqIRoMvL9erwsIjpLq9efQ95BUclJ7z0fkzCI+IwpFTF6T75j+xHEdOXUB4RJRtty8Cg3Q4cuoCjlZdxL7it6Xgt3Xt7+DsGpNSUnHk1AXkFRwclIk/RNS3OKbnIR2CICWpfNt2Hfm5OQ5l9LFxSJyVisoT5RZ0fgBZ8vRK6fElT69EaXERhHaTuurdfyJu+iOy5y95eqV0jqjoh6TA2Xa9FQBwovxvKsAaaMTnDtFoMPOx31gu1VSrDKcrZPUErK27hRkr1EM0GinIZK29GRw7BAE11Wdxtupd6b621muwLQ9Yx/zEnyvLbnb7Zm98Qbp/oj4Gjy9dbtm6fqWqsaEezq4xc/UmBIwYxYBHRG7BoOdGowODpNtfNV6W3qiH+fpBHxsnPWbbDQoAX16ul1rcYvajvbbWa92e29fP36FsvfFzANZuSNvxNti08G3rCQARUXq1fUZphyDgr0UFliNvvaESW4698WV9nXT7zp+Nlz02/u4IqS6N9UYp+IuYvEJE7sSg50b62Dhp/OzvJW9J89QCRozCrjfLpHJ2AUhG7NK05+s/3OG+nlo//sMD0NhQj8AgHe6PfshpmWG+ft0eA4CYcaoS6zfhnvssgboQVebi2T0+tzeG+fnLAp7Y9UlE5C4Mem4UnzgLm1ZlmoV2k7pgZ675/pjJ6on6GFkZZ8kjd4zRSS2c5DkLID6npbkJxtrPEBI67pZaPOPC7salmmq0NF81r9n8ktSCE+sQHhHV4zzBluYmqWWakbVaDOQqZ9fRlbs6E18AoPJEuSV4UYYU3M5UnpIeuzdqksvHJCK6FUxkcaMhGg3WbM5TA9YkjGXzks3rstJRdqgIB/bnW9LnJiItZYbD8+J/mSL9HnZtfx4tzU1oaW7CqqcWIS1lBqZFjkWdsbbX9ZmWkAyxLi9v24AOQUCdsRZrnlmCtJQZSJ4S2avjXa77Ah2CgJbmJjhLgrF1orwM5wyVqDPWIvqhn0uttrzN6y0H9udbzhkqpaxQwNpK5rgdEXkaW3puljgrFd9eb7VsXb9SJbSb1KXFRWKXp+wDhj42Dptf3g/A2v2ZvWGbZev6lSrD6QpMixwrO2ZG1upbCghx0x9BUkoqSouLULhnB2zT/zU+WvOmF/f2+PsPGDEK+tg4GE5XoLS4COVlh81Cu0mt8dGa0fn3YztmFxYegUs11dJUhI3bdyF4Vig2vbgXy+Ylm4V2k3rreilZR0q0EV8LIiJP+j/erkB/4Ovn/4ffLHnSbccLj3zgtoRHf40fqX+Ejg4BP/rREPj6+WPMT+/EIzNn45nnNmLpM9nQDv2/sufoY6fghsWCttZv4Ovnjwn3RuL3G/4Hs1IXSeW+/bYNP/rRj3DXhHswdUaSdP/333fg/7Vdx10T7sEDsVOkllXslHiMGDnS8v33HbdZLBb4+vlj6oxEbH55vyrs7pvdjlcaG/DTsT9D2N0RiPoP+RJisVMfxrXmJrS1fgPt0KEq8fnDh49AYJAOY4JDLOGRD9wGAGPHheGrhnpYLBaM+emdiJ0aj5Cx4xAYpMOvUheqblgs0msy5qd34rF5S7Bm60uy7tv/920bhvn6YcK9ExEdN81tvxcAKNyz4//77v99u8mtByWiAeM2b1egPwgM0t04WnXR29WgPvDwA+M7rl5pHFwLnhKRyzimR0REiqGooKfx0X4PwAAgC0C0l6tDRER9zNVEFgOA2ztvh9jcb7S5/TUAvU2Zk/3tsc5VQR7o/IJWO7TJZPpuJoiISBFcDXq3Qx7sRM7uA6zBsD8+dkOrHdpkuXFjuNBuKjSZvvtvyAM3ERENYq4Gva4CyoCi8dGaTabv9gHYBQY7IiLFUdQ8PaHdNA4MdkREiqWoRBYw4BERKZqrLb3uxszIzXI3PodPLn4o/Zya9qTDljvpcxNlP29+eb9bdyQoOyStJCNbLNsV4hJqgHWB6sRZzhfRJiLqa4rq3hwoPrn4oWz7odGBQbKgd85Q6bA90bdt190a9L6sr3M4h6u+bbsuPTdq0oM9lCYi6jtK694ckM7YbNgKyHcmICIi1zHo9WPi+pmNDfWyXRbOvv8eAGs2anfP7xAEnDNU4pyhEi3NTd2eq6W5SdoVoSfibg2uHJeIqD9R1JSFgUYXYt1tobGhXtqHrkMQpK7DiCi92lkXZIcg4OVtG3CwcK+5c0I+AOvODqs3vyjbsaFDELBp1dPS+J1YznYXeFsVx49h69rfobGhXlbe3WOKRESewJZePyfueH6i/G8qAKipPis9NjX+FxZnz1m+cBYK9+yAuAWQ2GI0nK7Ab+cmyVpzL2/bIAW8wCCdbBshe+cMlchcPFvajV0fGycdd15iHDoEwS3XTETkKQx6/ZwYWKrPGswdgoCTb1szKcPCIzDMz9/h91dx/JjUEkxKScWpj+rVR6suYl/x2wCsrcacVc8AsHZpinvs6WPjUHLyPHa9WYYjpy44rcv//GGldG77so0N9SgvO+S26yYi8gRXgx7nt3nJvVGTAFjXDa2pPosPqqxJLA9ET3Za/p2jJdLtNZtfwhCNdRedifoYJKVYpw4YTlegQxDw0fkzUtnUtCelssEhoVJZUUtzEy7VVAMApsYnysqKgdlZ65CIqD9hS6+fCw4JlRJaTr5dJgWeqM5uT3tXGhsAWLsqxcAkGhN8p3T7q8bLaGu9Jv3s6+ffZVnAOg1BlJ+bg8hgX+lLbFleb/2mV9dGRNTXOE9vALg/+iGUFhdJXZEAEP3Qzz3anWgb5OzpY+Oczr/z8/e3gB+kiKgfY9AbAPSxcbKuw7DwCIdWnOiuCffCcLoCjQ31OGeoxER9DABrluaJcut4YGCQTpbBCVjn/ollAUjdqKKfBI6Rbo8ODMLSzGeln8sOFeEOXQhCQscx4BFRv+bqmxSnLHiROK4n6mo8DwBS5qdJt9c8swRlh4pQcfwYli+cJXWNPr50uQWQd53m5+bgwP58yzlDJdZlpUtlRUM0Gmmcr7S4CGWHilBnrMWB/fmWtSvSkZYyA+X/W+w0m5SIqL9gS28AEIOTODeuq/E8sezG7buwdkU6GhvqsXZFuuzxpJRUzFmUIX3Y2fTiXiybl2wW2k3qretXSveLUxdsZa7ehDNV79ofVyWW/1XqYrb0iKhfY9Drh6ImPYjRgUGyZJLHly63XPzoggqwjucBwB26EKn1NczXTyqbOCsV90ZNQnHhPnxy8UNcb/0G48LuxrSEZIeFqyfqY3CwvEq996Vt+OzSx/Dz/zFS056Er5+/wwT1gBGjUHLyPF7N346z77+HeuPn0IWMxdT4X1h+lbpYJXa5DvP1k+p1V3iEu18eIqJbdpuL5Qb1LguBQbobR6suersa1AcefmB8x9Urjc4HRIlo0GN3FBERKQaDHhERKQaDHhERKQanLBARkWKwpUdERIrBoEdERIrBXRaIiEgx2NIjIiLFYNAjIiLFYNAjIiLF4JQFIiJSDLb0iIhIMdjSIyIixXA16J30aC2IiIj6ALs3iYhIMRj0iIhIMVwNel97tBZERER9wNWgp/doLYiIiPrAbd6uQH8wcnSg4O069LW21m9Uvv4/tni7Hn3p+w5BCAzS+V6qqebfPRF1i1MWBh8uIk5E1AW+QQ4+/J0SkeIwe5OIiBSDQY+IiBSDUxaIiIho0OOYHhEpDrs3iYhIMbjLAhERkR12hQ0+/J0SkeKwe5OIiBSDQY+IiBSDUxaIiIho0OOYHhEpDrs3iYhIMThlgYiIyA67wgYf/k6JSHHYvUlERIrBoEdERIrBKQtEREQ06HFMj4gUh92bRESkGJyyQEREZIddYYMPf6dEpDjs3iQiIsVg0CMiIsVwNej906O1ICIiIvIgjukRkeKwe5OIiBTD1aAX7dFaEBER9SPsCht8+DslIsVh9yYRESkGgx4RESkGpywQERHRoMcxPSJSHHZvEhGRYnDKAhERkR12hQ0evhof7fcAbnR+GQH4erdKRER9g92bytMmtJsaAEDjozUDeBNAm3erRETUv7ClN7gUaHy033e2+NjKIyKyU+DtCpBbJcPatcnfKxERDXohbOURkRKpvV0BGwYAt3u7Ekqhuu22awA+8nY9BpGvAczGwBoK4P8c3YqB+Lcuuc3FctEAqjxZEQDG83VtP/XwOYg8IjLYdwuAuQCmYIC8GfgPD7h+svrfbO1TrxzYn2/Zun5lPQbQ37otV7M33/RoLYgGuPN1bc8CuAjgINhtTIPYnEUZquwN23QATgII8XZ9eotTFojc5Hxd2yMArgL4i7frQuRJAznwMegRuVFn4BsJZsbSIDdQAx93WSByswaH8+sAACAASURBVPc/u/oAgJ8D2OztuhB50kAMfK4GvcUerQXRIDJEo8E75z//qVY7NA3AIm/Xh8iTBlrgY/cmkQcEjBiFA29XjvIfHvAirIsBEA1aAynwcZcFIg8JDglF7p43ff2HB7wO/g/RIDdQAh+nLBB50ER9DDa88IqvVjv0iLfrQuRpNoHvoLfr0hV2bxJ5WNz0R/B//fz9vV0Por4wZ1GGCv14pR8GPSIiUgxX197klAUXdQgCqt79J945WoIrjQ3S/VGTHkTK/DQEjBjlxdp5Rktzk1uv65yhEiUHXsOSp1ciOCTUbcclIuKUBTeqM9ZiwaPTkLl4NsrLDpvF++uNnyM/NwcJ0XebK44f82YV3a7sUBGenP+oW4/5Zb0RpcVFuPr1Fbcel4ioP+2yMKC1NDfht3OT0NhQj4ys1ViYsUI9RKORHj9nqMSaZ5aoMxfPxpFTFwZNC6a0uAit11q8XQ0iIpdwyoKbvLpzOxob6pG9YZtlaeazsA14gDWLb9OLewEAxYX7nB6jpbkJdcZadAhCj+dztWxLcxNamptcOp6zch2CgDpjrUvH6K6et3p+IiJ34pQFNzlYuNccGKTDr1IXd/maTtTHIHvDNkvK/DTZ/ecMlZib8CCmRY7FzMn3YdK4kcjd+JwsoJ0zVCIhegLOGSqRPjdRKjv5Hp35wP58i/25DuzPtyRET8C0yLGYFjkWCdETUHaoSFYmd+NzSJ+biAP78y1iOfFYYp0mjRuJmZPvk45he670uYkwnK5AY0O9w2Nlh4ognn/m5PvwH+Nvd1rPiuPHYFvPuQkP4sv6OpdecyKi3mL3phucM1RCaDep749+yKGFZ68znVf23GXzks0BI0aq8woOwtfPH2cqTyE/NwefXPwQu94sk8o2NtRjzTNLoAsZi7yCg2hrvYadf9yk3rp+JcbfHYGJ+hgAwO68LcjPzVElpaRiWkIyfP38UXLgNaxdkY5vr7daxDp8c60Z1WcN5uqzBiSlpKoAYPzdEao6Yy3SUmYgLDwCYp2+rDdi5x83Yev6laqYqfEIDglFatqTqDd+jpbmq+Zl/7VGfW/UJBVgDXhrV6RDHxuH7I0viOdXb12/EtdbW7E081kA1jHQzMWzERikk85TcuA15OfmuO+XQ0Rkg0HPDb6st+6jOCb4TofHWpqb8G3bdYf7xTG9XdufBwD8uaxCyoCcqI+Bn7+/Zev6laqK48cQN/0R6Xm6kLGyQHiHLgRpKTNwpvIUJupj0NLchPzcHOhj4/DfubukchP1MbjS2IC8zestv0pdrBKDs9BuUmdv2GaZsyhDKrs7bwsAYOvO16R6TtTHwNd/ODIXz8aHZ99HcEgo4qY/gqJ9fwIAdeKsVADW7tBNqzLNYeER6h2vHpI+BIgBOT83R8pi3fvSNqfXfqWxAYbTFT2/8EREvcTuTQ9b9dQizJx8n8MXYA2IhtMViE98VG2f8h//yxQVAJyteld2/9T4X8i6CEfePlr2+EfnzwAAklJSHeqSlJIKod2krnpXPgMlZmq87O9gaeazOF/XJku2aWluwic11QDQbfdjTfVZCO0m9czHfmOxb/VOS7AuQVl58h8AgPKyw2Z9bJzDdAdndScicgdXW3qrPFqLAe4OnXWZOWctuqSUVERNelD6ueQvr6OxoV5WvrS4CKXFRQ7PBYBPLn4o+3mYn3+3H1TEwLR2RTrWrkh3Wqat9ZrsZ2eZpHXGWux9aRs+u/QxvvjXp2ah3eTS34rY6t26fqVq6/qVXZSpQ0tzE4R2k3p0YJDD4+LrSUTkbuzedIPwiCgAwPGjJcha+7zsMbHbT3T2/fekoCdKSklF8pwFTo9t35JzVfaGbZbxd0c4DZAhoeO6fa44JhcYpMP90Q9h5mO/UY2/OwJt11uRuXi2S+fPyFqN+2MmO31s5O2jMWyYn0vHISJyJ1eDXjKAEk9WZCAbotEgKSUVpcVFKDtU5BDouvKTwDEAgCuNDdKYl0hc2aW3Qe+u8Ajptv0x64y1+OJfn/Z4jDf27YTGR2suOXlenGuoAqyZlj2xbaXZn7+luQkfnT+DkNBxGKLRIDBIh88ufexwDLG1SETkbq4GvTww6HUrc/UmnKl6V8qQtE0WAaxv+MWF+2QJGkM0Guhj42A4XYFzhkpZkHg1fzvyc3OQvWGbJdgu47M70Q/9HBofrfn13TvUv0pdLCWSdAgCclY9A8PpChw5daHbZcNar7UgYMRI2eT6DkEQk1a6FR4RhcAgHQp25ppT5qfJxirzctagtLgI+4rfRsCIUZiekIzCPTtk194hCHhj305XL5e8bF2W8y50APjx8BGIin5IlojlCS3NTcjLWYNpCcndnqvi+DG8c7Tnt7HM1ZsG9HKBuRufwzBfPylLmuTYvekmASNG4ZU3S/HbuUnYun6lKm/zenNElF49OjBIlo0YGKSTJqkDwOrNL+K3c5OwbF6yefb8JerxE8JhOF2B0uIi6GPjup3358wQjQZrNuep165IR/KUSCT/+nH4+ftbTpT/TWU4XYGMrNU9rgYjBqN1WdZpB99eb7UceesNlbjyiu3Y5ejAIBhOV2BuwoOYGp+IpZnPInvjC8hcPFs9LzHO4fxJKalSgFu4bAWOHy1BWsoMzH9iOe4Yo7MceesN1Rf/+tQM/m0OCOJYdGCQzuGxxoZ6FO7ZgaSUVFkmsbt923YdpcVFGBN8Z7dB75OaapQWFzmt62By/GgJdCFjvV2NfotvLG4UHBKKkpPnUV52CKXFRep64+cwnK5AYJAOSSmp0MfGIT5xlmwuX3BIKP5cVoG8nDXq40dLcPxoCfyHB4hLmUllR94+GvrYOPj6D5edc5ivH/SxcbhDFyzdlzgrFXfoQrBr+/Mo+cvrAKDShYzFxu27ZF2vY4LvhD42zuE6nlq5HoD1n+dM1bvwHx6gmvnYbyy/Sl2s2rTqaXxzrVkqm7l6EwDgTNW7UjCMm/4Ijpy6gL0vbZPO7z88AJ1TI6QgHjBilHjtOG79BK66P/oh/P4P29S7tj9/y+OZ1Lf0sXGyaTSiluYmrHpqkfQBztVuf0/b9OJeh653Uo7bXCy3GZ7P4DSer2v7qYfPQX2kQxB6nKivJA8/ML7j6pXGfvWC+A8PuH6y+t++P+QYkcG+XQY9wLr4QlrKjC5be+I81p8Ejun278V2vqt9T0WdsRYzJ9+HjKzV3XbpdS7agH3Fb3sk6HUIAr5qvAwAPV6PWHaYr5+sK7W3r4ezcgnRExzm8/b2+D9UZLDvv9FPd093teuMUxaoVxjwqDv2y9Q5W3oPkC9TJ85x7WpJO3fqEATMTXgQkcG+srVjW5qbkBA9Af8x/nazuFZsS3MT0ucmSkv2idezLitddj3rstKRPjcRZYeKMPkenVlc3i99biI6BAG5G5+TvR7iIhGANbBHBvtid94W2ZKFk+/Rme2XF3TG/nV0Vj+l4CayROQRLc1N0opD4sIEwM0pMbqQsdhX/DaOnLqAjKzVKNyzA5tWPS2VO2eoRObi2fAfHoC8goM4cuoC8goOImDESPXW9StVrixkfquGaDTYuvM1AED2sgVScMjLWYPGhnps3fmalKT15PxHUX3WYN64fReOnLqAfcVvS9ncL2/bIDtu9VmDeecfNyFz1QaVWM5wugLJUyLxQdUp5BUcRF7BQQQG6ZCfm+OwWHt+bg78/H+MI6cu4MipC4iI0qvXrkjvNrPa2euYvWGbpbS4CMsXznLnyzYgcMoCEf0g1WcN5vS5ibL3kuut3+BS50IJ859YLiWYdAgCdv5xEwKDdLBdpm5p5rP4tu06CvfskDYPPlN5ChofrflPhYelACN2bdouh9dbaSkzunzMths2OCQU2Ru2WbauX6l6NX877tAFo7S4SHY9dcZatF5rweJlWdJSfMEhoZioj0F52WHzJxc/lL0uQrtJnb3xBcRNf0QFWLOdS4uL0NJ81fznsgpZtrOzawwLj5C9bjtePYTkKZF4JTenyySe//nDSgQG6fCnwsNSV2pnRrjTpQ4HO05ZICK3sQ124qILtuNnXzVeRmNDPZJSUqXxL1FU9EMo3LMDlSfKLcGLMlRLM5/F0sxnZe9RdcZaadWhW6WPjYOzlYDEx2zNWZShOlH+N+Tn5kDjozWHhUeoxUQvwBrgjlZdlD2npbkJxtrPujx/9EM/l26L81V1IWNlAc/Xz9/pc6fGJ8qGDoZoNFK2dUtzk8NUi5bmJlyqqbZmYbddl2Vei4tXnK16l0GPiMhVEVF6tW3SRJ2xFr+dm4TyssPm5DkLZO8x4uII3S299+XlemnY5ZyhEiUHXsOZqncdVjK6VekrnutVIsvml/djWuRYCO0m9dadrzmMV7c0N+HVndvxQdUp+yX7nL6//pDxbtssbdEwX+vqRsbazxyCnhh8DacrpDV/7dlmYysBgx4RuVVwSCg2vbgXaSkz1MvmJZuPVn3ssKD6/CeWY8qMRKfPF6eqHNifb9m6fqUqMEiH6QnJuGOMTlpar7suSnez3fR570vbZFmoLc1NmJcYJ7VeZz72G1WgLgT3RN6PeYmO04E8ydkUH/E+Tyx1OFC5GvS4ywIRuWyiPgYZWauRn5ujXvXUIil9/s6fjZeVsdXS3ITKk/+Q3oRf371DFRikQ8nJ87BdDs+VbEV3OWeoRH5uDpJSUjEm+E5p2y5x/K64cB8aG+qRV3BQ7CJUAdaxy5bmq2ZdyFi3Niyc7XByue4LADeXNbTV3VKH9q+3UnCXhT7S3XJNop6WUervxGWexEQEUraFGStworwMhtMV0pq0wSGhCAuPwMHCveaU+Wlq278T22XqgkNC0dJ81exsOby+WqauQxCw5pkl0PhozZmrN6mHDfPDifIybFqVab43apI6OCRUGiOzH4P7a1GBRWg3qa+3fuPWOpX85XVpP0rA2pVcWlyEpJRUp92m3S51uHM7CvfswMbtuxT1/8ruzT5SWlwEjY/WHDBiZJev+YR77rNgAE8jEZd5Sp6zQFH/ROTcEI0Gv//DNqSlzMCmVZnmmCkPqwNGjMLv/7ANy+YlY3Z8tHn2/CXqYb5+OPv+e7Bfpi4+8VF1aXER0ucmIiklFV/W16HkL6/Df3gAAODTizXALWTcr3lmSbePd2ZXYtOqp8VWnNQ923k96pxVz2DHq4cwZUYiCvfswJpnluDxpcstAHDxowuq8rLDlsAgnbR0n7u0NF81z0uMUyf/+nF823YdBwv3mgODdGpxZSRnxKUOxUUCxgTfKb3e4ipRSsIpC30oPvFRdQ9rEA7YgEfKJL6JdmWiPgbZG7ZZLn50Qf3R+TOIm/4IJupjcLC8Sr33pW3i8nPQhYx1WKZuzeaXMCb4TpwoL8POP26CLmQsHl+6XFoO744xOgsA1TBfPySlpMp2GHHmrvAIlzYo9vXzhzjxPCNrtaz3xeZ6VDXVZzFRH4N9xW9j1/bn8fruHSr/4QF4IHoyjlZ9rK48+Q8YTldIWZXOlvwDrGvdiskoopG3j0ZSSqrD3pKLl2WpAYjL+yE+8VG1/QLZ9scTlzoUk206lxZE9oZtDgvjK4Gry5AZ4fklZQb1MmSRwb4eW3hXXNLo6tdXMPL20T22suqMtbj69RWER0TJdmGoqT7b4/PFdOyQ0HEOmWLdLfMkPs+V+g1Gg3UZMuobri611l8MhmXIqA8d2J9viQz2dRgHzN34HCKDfWUD+bvztkhLGqWlzMDMyfchIXqCbIWGc4ZKRAb74sD+fMvchAchlp18j858zlCJiuPHkDwlUnr+3IQHpU+6AJA+NxHpcxOlZZLSUmZgWuRYrMtKl5VzpqW5Ceuy0qXnifU7Z6h006tFROQ6Br1+aM6iDJU+Ng6lxUVScKg4fkzapkXMHDuwP9+Sn5uD+MRH1eKyRBu370JL81Vz9rIFZvt19bauX6l6IHoy9hW/jY3brS3ONc8sQfayBebHly637Ct+G/OfWI5LNdV4ded22XMNpytw/GgJ9hW/jXfOfy4tY7TqqUVdXkeHIODJ+Y+ivOywOXvDNou4RJP/8AAsm5ds9uQyUkREznDKQh/qbkIuAJyva5Nub355PxKi7zaveWaJ+pU3S7F17e8QGKTDms0vSWUufnRBFRYeIesyDQ4JxacXa9SFe3bgq8bLsq5EfWwcstZa10KcqI+B4XSFurS4CBu375KWUJqoj8HxoyX4oOqUQ/1st2SZsyhDdb21Ffm5OQ5ZYaLyskO4VFMtO35wSCj+VHgYCdF3I2fVM12uzk9EN/0kcAw2bt+Fe6MmebsqAx6nLPShsPAITI13PiHXXsCIUdi68zV15uLZmB0fbRbaTeojpy7I0pLtxwfFcblPLn4IALj69RVZ0Jsa/wtZdqiYgODsH8k+6ywwSOcQ2P4z+THk5+bgTOUpp0FPDPD3Rk1yWDg3Ikqvtt1Fnoi6NkSj6Tf7EQ50nLLQh8aF3d2rQei46Y+Iq7Wrk1JSnSaAHNifbzlR/jdVvfFzaZkmjY/W6c7jw/z8b7k729lOzOLEV3FybFe6Wv4IgNP1AomIPIVTFvqxOmMtyssOmwGoy8sOm5c8vVI2mXddVjpKi4tU+tg4JP/6cdwVHoE7fzYefy95S52fm+Px+n37rXVi7o+Hj+iyjMZHa97555Iu/86GDfPr6iEiIrfjLgv9VIcgIHuZda28fcVvY9m8ZGQvW4DXDr+DIRoNWpqbUFpc5HTXatuV1N2l+qzB3CEIstUxPjp/BgCk+VL2zxkdGASh3aR2Nr1BzC5V2hwhIvIuZm/2Uy9v24BLNdVYszlPPVEfg8xVG1SXaqrxar41q1IMbPZbpNQZa3GwcK/Z3fUR2k3q8rJD0s8dgoCifX+Cxkdrjv9litO/I3Hj0LycNbIdmuuMtchcPBtF+/7k7moSEXWLY3p9qKfszcAgHY5WXcQ5QyUK9+yQLWxru6/X/TGTMVEfg7DwCOl4E+65z/Ll5XrVwcK9ZjFJpO16q1vrv3ZFOgynK6RVMsTMzK7G5GzGJPHZpY8xNT5RWjpJ46PF6s0v8u+PiPoUpyz0EVeWPxLHxs5UnkJSSirs19NbvflF7H1pm5Qt+afCw7ZLC6nuj34IO/9cog4JHYe8nDVoa70GoOsljcRlmeyXQJre2UKzFRikw6YX92LX9udxpupd3B/9EH7/h22yrE3xeLartv937i6Icw7FdRNnz1+iTpmfpsiVWYjIu1xdhqwvDOplyAay9LmJqDd+7rBDNLmOy5CRknAZMiIion7A1aDn2N9FREQ0wHDKAvUoNe1Jb1eBiMgtmD1HPRrIu7kTEdnimB4RESmGqy29l3ou8sN1ZvxQH9D4aIMAQHXbbddMpu++83Z9FOBrb1fAXkd7e3tksG9LzyWVS6sdOtRy48Zw/p/0Wr/7eycKAZAFwAjA0Hm7X6YYE3lBNIACrXbo1wA2g/8bRINKNIACjY/2ewBHYc3W5fwtUqJkWP8HjLB+EOT/gUJlebsC1Cd8ASwCcLTzE24BrAGRaDAT/+4NnV+cokUwersC1OfY/UmDnS+ArM4PeEfBD3hkg0FP2dj9SYNJCIDNnX/PBeCHOXKCQY9E7P6kgSoaN/92mZxC3eKYHtmz7f4UB/35JkL9EZNTiMitbNO72f1J/YGYnCKOSTM5hYjczhedn6rZ/Ule4gtgM5NT6Idi9yb1Frs/qS+F4GayFZNT6AdjIgv9EPbdn4vA7k9yDyankEcw6JE7SN2fNp/I2f1EtyIZ1rE6JqeQRzDokbuJ3Z+2b1z8lE7dYXIK9RmO6ZEnsfuTusPkFCIalNj9SbaYnEJEiuELefcnkxSUg8kp5HXs3iRvioa8e4vdn4OTbXIKf8fkVUxkof6C3Z+Di9iiZ3IK9SsMetTfsPtzYAsBk1OoH2PQo/7MtvvTAHaN9WdMTqEBgWN6NFCw+7N/sk1O4WRyIiI3Y/dn/8DkFCKiPmY7fsTuT8+zTU4Rt5oiGlDYvUmDBbs/PYfJKTRoMJGFBht2f7qPbXIKX0caFBj0aDALgfXNWpwrxu5P1zA5hQYtBj1SimTIU+o5HuVITE7hBwQatDimR0ojbmPD7k8rJqcQESmEkrs/bZNTmPhDRKQwtt2fg7nFEw0mp5CCsXuTSE7q/hxkW+AwOYUITGQh6o599+dADBbi+KXYfUukaAx6RK6x7Rbs792fTE4h6gKDHlHvOOv+7C9JIExOIeoBPwES3br+0v0ZDaBgkI1BEhFRP+aN7s/kznMZMTDHG4mIaIATuz+Putj96Wqgsi3H5BSiW7TZ2xUgGsR66v707Xysp7G3ReJUA+50QPTDMJGFqG846/5cpPHRfm/TIrTna/OcG2CwI/rBGPSI+pbU/Qnr/9+Nzi9xeoGYhBICwGAT8MSgR0Q/AIMekXf44mYwuyEGN7HVJ/6s8dF+L351PkZETtzmYrlkACWerAgRAISFR9xobKhv83Y9aHC5a8I9vobTFa6+39EgpnaxHAMe9YmrTV93nKz+N1Pqya0efmB8h7frQP2DytsVICIi6iuuBj1OWSAiogHP1aA316O1ICIi6gPs3iQiIsVg0CMiIsVwNehlerQWREREfcDVoMcpC0RENOCxe5OIiBSDUxaIiEgxOGWBiIgUg92bRESkGAx6RESkGJyyQEREisEpC0REpBjs3iQiIsXglAUiIlIMTlkgIiLFYPcmEREpBoMeEREpBqcs0KATGezr9CshegLWZaWjzljr8Jz0uYlSGW9Zl5Uu1dWdEqInIDLYF+uy0t163K60NDeh7FBRn5yLqLc4ZYEUo7GhHqXFRZg5+T5UHD/m7eoMSgf251sSou82lxYz6FH/pPZ2BYg8JSklFclzFgAAvqw3wnC6AuKbcfayBeajVR+rA0aMAgCkpj2JpJRU+PoP91p9k+csgD42zu3Hzd74Atpar+EOXYjbj23v9d07VEK7icMm1G+5GvQKACz2ZEWI3G1M8J2YqI8BAEzUxyBxVirGBN+J/NwcCO0mdXHhPizNfBYAcOfPxuPq11ccjtHS3ITKk//Al/V1AIA7dMGImfIwxGBpq0MQUF52SCp7V3gEoh/6OYZoNFKZc4ZKAEBI6DgYaz/DmcpTuEMXjPjEWRh5+2iHY9YZa3H16ysYeftoBIeEouL4MXxSUw0/f39L/C9TVAEjRsnOKx7L9py+fv7w9fOXHb+r4wLAfyY/huCQUIe6nDNU4kzlKeln++sTrw0Arrd+g3OGSun4tuetPFFuud7aqvLz97eMvztCJf6O7OsGAOERUfhrUYHlemurqqt6EXmC0dsVIGUYOTpQOF/XduOHfAG4AeBGRtZqh8fe/+yq9HhYeIR0vz427gaAG4FBOum+vIKDUln7r7yCg7Lj7it++0ZgkM6hXGCQ7saRUxcc6paUkior9875z2X3ieXF+8LCI6Q6il8aH+33eQUHHc4bGKS78f5nV6VjiI8npaQ6XG9SSqrDcQHc2Lh9l+w1c1ZGrJd4LmeP2/4O5j+x3GkZfWycrL4ZWaul67A97/wnlt/y38TI0YGCW/9QacBiNwQpyhCNBoFBOgDAF//61NxVuQ5BQPayBWYA0MfGYeP2Xdi4fRfCwiMAWLtHW5qbAFhbg8vmJZsbG+qh8dGa5z+xHPOfWA7AOo6YvWyBw/FLi4ug8dGaw8IjoI+Nc9pytHWpphr1xs+RkbVaOrbQblJnLp4N/+EByN6wzSJ2jTY21OOvRQUWV16P0uIih+MCwM4/bpJuv5q/HYbTFQCA+U8sl53rUk01yssOQXydRBofrVkfG4c7dMEAgN15W1C4ZwcAICw8AvOfWC6VN5yuwPKFsxzq1thQD8PpCoSFR0DjozWnzE9z5ZKIusUxPVIcXchYNDbUQ2g3dfn3/1XjZenxuybcK3Vp3hs1CV/861Pc+bPx0nhgceE+qezOP5eoxe66Yb5+OFFehnFhd6OluckhsIljih2Ca42QTS/ulbprjx8tQWNDPQDgT4WHETBilCr+lymYFjkWAPDl5XqXP9C+8map1G34zbVmlBYXobGhHh2CgCEaDe6PmYxsf38LAMxZlKECoPpV6mJMGjfSeq7O7txdb5YhIXoCGhvqERGlV+96swyA9QNEwc5cMwB1WHgEXjv8jtQlui4rHaXFRTCcrsA5QyXsuzrnP7EcWWufR4cgqG27bIlulatBjyuy0KBxvfWbHssEh4QiMEiHxoZ6FO7ZgcI9OxAWHoEHoidjyoxE2djS2fffAwAEBulkb9pLM5+Vxgzt2bbuXH0ztz22GLjDwiOk49gG1W+uNbt0zMAgnexaxgTfKd3+qvEygkNCMVEfg4n6GFVLcxMqjh/D2ap38UHVKWeHc6rq3X9KHwp+k7ZMdr1Lnl4pJRedqTzlEPTE1h0DHrmLq0GvyqO1IOpDnd2aarGbsyuvvFmK385NklpUl2qqcammGoV7dkAfG4cdrx665Tfj0YFBvSrfVV39/H98S+fvjZbmJqx6apHUxdldfZxpa70m3bbPILUNuJfrvvgBtSRyDcf0SFHOGSqlVsf90Q91WzY4JBRHqy5iX/HbyMhaLRuzMpyucBg3a2m+apb/3IRzhkqIY38DlRjwAoN02Lh9F945/zmOVl10+fm200C+rJfnxNkuFGDbyhQN8/W7hRoTdc3VoFfg0VoQ9YE6Yy3WPLNE+lmcw9dV2dyNzyF9biIAa1flrjfL8M75z6Uy11tbVQAQNelBANbEEttJ78WF+5CWMgPTIsfK0vkHGrGFNz0hGYmzUhEwYpTTVW26Ev3Qz6Xbb+zbKRvD3PvSNun2/TGTHZ7bU4IPUW+52r35856LEPUvBTtzzSV/eV0NWFthtokrSSmpDuNH9sRsw3rj51j2X2vg6z8c7xy9uTjRXZ2ZnCnz01CwM9cstJvU2csWmOMTH1UDkMaqwsIjejxXfyaObR4s3GsePyFc7es/GMpvQgAAIABJREFUHFvX/k56/Nu269Jt/+EBaGyoR/VZg3ldVrpaHxuHxFmpmP/EchTu2YFLNdVY8Og0PBA9GZ9c/FAKqPrYuAH9GtHAwexNGrSEdpNaHI9D59+6xkdrXrwsS70wY0W3zw0OCUVewUFkL1tgbmyoV69dIV+3cv4TyxE3/REA1tbIzj+XqJfNSzYL7Sa17RJcgUE6bN35mvsuyguyN76AzMWzIbSbpNchLDwC/sMDcKmmGp9c/FAq+0D0ZFyqqYbt65A4KxVPrVwPAFLgu9Q5ER6AND5K1Bduc7GcEYDn1zAixRs5OlD4xwefDvkhx3C22LGv/3D4+vkjPCLKafJJxfFjaGu9Bl//4VIwAxxXZPHz97fETI1XOVsZxL6ssxVZxLrdoQtxaNmcM1RKY16Js1Jl99nXq6v6Oju+WNbZffbPrzPW4sOz7wOAbGWXOmMt/l7yluy6vmq8LJUV6yvWQXwN7FdRsV2RBbB2aTpbkcXZcX+Ihx8Y33H1SiNTQMnloBcNZnBSH3BH0KNbJ87NG2x16Cbo+QJoc+vJqF9zNZGFAY9IAbwd8PqwDr4ANgN4py9ORv0HpywQkZL4Atis8dG2wLroxgNerg/1MY9NWdD4aL8HYOimyCJYF5Jd1Ntju3DM5Ft4ri+ALDfWhYj6iR+p1UMAJHcGu2c7M3l/alOkANbcBfEr2ouPGeweC+FjAICjcANPJbJEA6gEsB9db0lUAGuQioH7uk83A3gWgB96308vBmi9m+pCt4BjeuQJNmN6IQDuA7BUqx16v+XGjeFCu+lHXq4eucYtCZWemrIQ1vn93W7KhGt8tGah3eTO8cJpAP6N3gc8X1i7Oba4sS5E1P+ILYgSk+k7wPq/TwriqaAnru90qYvHfQE8ILSbPrC5LxrWYLkf1u7JSQCaAOyB8yAWjZtdAn8FYNT4aCOFdlOhXbkQAFMBjO88XhXkLctoAL/svD2689wldo9HAxgF4FMAxV3Uh4gGHv4vK4yndlnoqRUX3vndNnNqLYAJAB7TaofebzJ9Z4S19fU0gHsg/+MsALBIqx3aBACWGze2Cu2mpZ399DU25RZpfLS7AUBoN53XaoeGmEzfjQJwDMCvO4/5Im4OZi/qrFuJ7XlgbT1+rfHR/pfQbloPYAq4sS51w36ZLvt5fR2CgK8aL0s/D/P1c/uSWy3NTfi27fotHdu2fj8JHNMvsjpJ8aa44yCemLIgtuLOd1NGbKG9b3PfBFgHlqtNpu9uh3VsbXHnfc/ZlNsMayD6ncn03e0m03e3C+2mbNxMthHrGg2gQGg3/UNoNwUA0HcedwuAR2DtCkXneY5pfLRmWMc4xTE9MeAthrW1qBfaTeM0PtogAOtcfC1IoWZOvk/2Zb/o9F+LCiy2j696yp35XFbzEuMwc/J9yMtZ0+vnvpq/XaqbbXAm8iK3NDQ8MWXBWSvO3vTO7xc6v4fAGtw+ALDKptx+WFtZ02zKPQtrSy3XplxuZ9AC5C29LQCWQd5K/N/O79LS71rt0PuFdtM/bMpEwxrwtnTWQWQU2k2FGh/t/G6ujchB5cl/yH6++NEFThci8gJXuzcL0HUWpj1nrTh7E7TaoU2dXZiANZsKAJ53UvYirK1AAPhV5/eN9oWEdlMDgK9xM8BVwRoAw2Ed0wOs43piABXHG8Uuz5uLAQJPdH5vguOUip90t+M2kTOG0xWyJbXKyw6bwbVviXrDADdk13tilwWxpXehi8dDAPzUZPrumM19kzq/O7QObcb3AGB6V2OFGh9tkNBu+qfNXVkaH+3WzgD1b1gDYg2A2zsfF1uEYsC1DdLimOTTXVzDv7u4n0gmLDwCl2qqcabqZiJznbFW2tNP3MHAGXGdyosfXVD9ePgIjJ8QLlsP075sceE+fHOtGfrYOMQnzuqyTh2CgPKyQzCcrkBPxyXqR27vuUjPPPFJ8yed37vqfxVba2/Z3BfR+d0+k0pshe0T7+hs0dmL7nwTEd9ZkgG8ILSb9gN4xva4Wu3Qr02m7z6wuU8MuLZB+vbO7s6ELq6ByCXirgONDfWoM9YiOCQUlSfKLQBUgUE66ELGOg16B/bnW7auX6mC3RDEzj9uwitvlsoSY2zKArBuafTGvp3ipray//E6Y61sN3jRG/t24k+Fh7l/HQ16nhxXcDaJ0BfA053jb8XinRof7cM2j9sSE0b+16ZskJPjru38LnZZilMQZAEPQHJnELVtUYpz+2yD9Ne42aVqaxEcV08g6tL4CeEIDNIBgBjscKL8b9YdBrrYub3i+DGIQSwwSIeMrNWY/8RyAEBjQz1+OzdJSoypM9bKymZv2GbJ3rDN0nqtBfbd8B2CIAU827KBQTpcqqn2SDINUX/jatDrzZSF3Z3fT0IeHKJhDTY/FdpNS3EzGIUI7SZ1ZyC0zdJMhjXI7MfNjMzjnf/ItsuFZQF4pPP5Yjmx63KaTblorXaoWLdPxTs1PtpIWIOcrQOwJtbYnie5c/rDRXABbuoFMbidKP+bqkMQUH3WYAas+8g580puDgBrEPtzWQWWZj6LrLXPI6/gIABr4CsutHZ+iN8BYNOLezFnUYZqzqIM1aYX9zoct6b6rNTCy974glQ2e+MLAKzjjr3ZEZ2oj/XbKQslAH7X2SKr1Phov+9ch7OyM8AshjwjcioACO2mbK12aBpurphwGI7LmO2BNcPzBZty0wF8YDdFYk/nHL7DsA5+GrTaoUdMpu/Edwgpc7Ozu/SBzmOJa3bugTVD1PY8hzu7PH/di9eCCBPuuc8CANVnDeaa6rNSCyxmysMOZVuam6QNVqcnJMu6G+OmPwIxS/ns++8BgLSBa2CQTrYv3UR9DGwymgEAZypPSbcb642WskNFKDtUhMZ6o0W8X9zHjqgfcsuUBU9lj+UK7aa/ApgqtJvGd973qdBucraaifj4HpPpu7/COuY3CtYuTftg2wZr6y2l83nvwxpkkwFcsS1nMn0XCmsW5igAn5pM34ndqZ9CvlLMFNwcZxS7PdtgHc+zXRnGfiUXIpfETI1XYf1KCO0m9a7t1gTlwCCd0/Gzb9uuS7eH+fo5PB4wYqS6saEe9cbPezyvWNYZ2zFA2Hz4FTd/JRqsPDFlQWSEvEXXFdv1Mtsgn3/nTJuT45Z0Uc7Zseyfa+zmnCVdHJvIZcEhoVKWpuF0BQBrK86ZnwSOkW5frvtC9liHIEjJKbqQsbLH7JNWbMs6O8++/7+9+4+Lqs73B/5qHvNwZrwhK2pGNDTp5vIwCn/teIFNKs3SxaSV2qS1IivT7Yeyu7pmLtuqkd5WqTZdLPGWd9EMV1u4ejUr0YB11l+U+XB1sQky8gd01b4OQ3Ph+8c5nzNnzpyBQQYYhtfz8eAxcOZzzudzBmbefH4X78TAawb7HdcLtERhIiRTFoJt3mzPlIV2kZs8j3XW9YnCgXbQyrDhibrp+phMSEiUBjPvKt3qUfex/bWosFk0jd4x8afN6kd3o8tYuqVISburdIvfQJYxKeOU7098XtUcbxuKeNtQfPGvE1i28Dmf/kGiMBS2UxbaQ0w12N3N5SDqVPbUNJQUe4OSXn+e8Jvfr8DMzLvhbnQZH5iY7JmYfp/xTN1pOMrLDIA09+9nWY8ZAGDivZmG/Lxcj7vRZVw8b5ZSk1TnJYyypyjzBpfnzjd8/VUtro7qh8LVKz3uRpex1nkKT8/PDe2NE4WZ7l4KqRLSepdtNWkS9Wi3jh6rfB+oP08YZU9BfuFmxMZZ4W50GUuKi5RgZk9NwxsbtioTyWMGDMLq/9omRj+jpLgIJcVFmJKZpTs69I0NW5Wa5IY3X8ealcvgbnQZY+Os+PPGEk5Qp4gX7CayyeAgDuoCkbKJ7CFHBQDANvQmJcCJYwOvGaxMLtc7JjS53ajc95EyunLYzUkG9QhNbdpdpVvwdW0NxqSMwyh7Cmqc1Th/9ozutQ85KnDi86rmixcuGH6UmITk2+70CXjiXABITBrd44OhahNZ6rlsCMEIzmCDHlGXiJSgR+GFQY+E7m7eJCIi6jLBBj1Hp5Yi9KIgVYW1y5oFwwb9JdSIiKj7hCQOBRv0QjJUtAuNB/AFfJchC9Zm+YuIiMJHSOJQpDZv6u2cEIwoSEuSHW0rIRER9TyRGvSS5LU32zvSR8wY3tdqKiIi6pGCnZze3tWtsyGtb3kU0vqXifL3Yj5eMqTtfwZDWmNTu9RXFKT1NcUyFvsgbUWkXbdTXEvsdP4mgEqT2XKXy3X5A006G6Q1NhMhrdOpt7an2BXiOIiIKJx06S4L7akx2SCt1fkEgM8APAsp0PxRPp5jMlv2AhhvsfRNh7QTQobm/M/kbXyuBXCt/P1n8B9gUgigQr5+ovx9js4qLxkms+WkyWxZLl9zvJw2T3O9CZotioiIKDyE7S4LIwDAZLbMcDe67oe3FueEVAP8h7vRdRMAp8t12QZpwMlYOV0UgD0WS9++Ltflm+Rz4G50JUMKUr+Dd+HrPPl6v4K3BpkBKYgCgFiG3mYyW96Ttx4aD29tMQ/Ab+Fb4xuu2aKIiIgiSGdMWRgLAPJGsT7NlnItajy8ETtWfjwnPz4P4AaX6/JU+Eb1SgA7TGbLDPlnm8ls+TWkPe/US5htg7RjA+DdJmi1/KgOeADwkvwomjSjIG0cq95VnYiIwkNIpiwEW9Nrz1DR8SazxSPvnSdEQdoxfT18A0+C/ChqWtMhbRKr17z4jWrV+J/J3y/RSSd2Qb8EqTl0krvR9Q9IfYR6xOAVMb3hRIB0RETUfcJzlwWT2TJS3mFcHdxEQNGOihQDVY7CW9P6KMClr5WDKeANVH7B0WLpa3O5Lh+QfxyhOqa3fPyX8E5PENMcPg6QPxER9XChDnq2AFsFBQooiZBqdqJWBvjugC5EmcyWu+RgCgDXWix9z7lcl7Xpkl2uy4NU+fcHALm5tK3BKUlyUA1JZykREYWfYPv0gh0qeof8eEpzPEnuz1MHFO1E8Hr50X87Z+B5OZiulX/+Rg5u2mXGFsuPIsCJqQfJmnRRclmUNmKLpe8YVVAlIqLwEpZTFkRzpc9gkAABRTRRiqB3CdLAlGz4BqlsSKMsd8A7MEY0k76qSpcHYJLmmpUAvrRY+v4W3pqkTS7fDQCeE8fkIFrVxv0REVH3CEkrXKhXZEmE1E+m7s8LFFBEYFM3O86B1NxZAcBpsfQ9C2ku3noAP1elWw85QFosfc+azJbvASTJx0RzqTBdfvwC0ov2hcXS1wbgPlXeI+TH/cHfKhER9TTB9uk5ANiDSPeczrF6ACkA6jTH/wop6KjXuXTK+SRD6p/7FlI/oF6Enwwgw+W6PES+TqV8njafSpfr8lBIg2mGADjlcl3+EL6B8YhcRq65SUQUnpwIwQ44wW4iG5LMiNrCTWSpM3AT2YgQkjgUqQtOExER+emMZciIrtj/u3jhQsqP9AbwklYfs9nc1NjY2N3l6AlcrsucikTtwqZNovDDD3IiIuo1GPSI2ol9ekRE1Gt0xi4LREREodalk9NDsro1ERFRd2LzJhER9RoMekRERBqcskAUfjh6k4iIeg0GPaJ2YvMmEVH4SIb//p9qNvn5ULa+iWtq9yft1ThlgSj8sKYXWaIAtADY3kqaPDlNa4GxvXLka15JIE1G6+UNJU5ZICKKIOPlx92tpEmSH0O5DdoEk9niQfuDSpTJbNkL4JsQlqXTsXmTiCg8jJUfKwMlMJktd8F/o+wOsVj6jnE3uj64glMT3Y0uI3rYPqQMekRE4aGtWpxNJ8hkQ2rytAEohFRb2w795s8oOa1D/soAYHO5Lg8CUKVJmy1fxymnFXkIOQBelb+fID+vl49TLlePmwHQ4wpM1AuwTy+CmMyW79H6+IlsSH1vOapjIrCI4JJnsfQ9K19L/bltA+CUjxcCKJS/3y5fM0OVVhzbDil4FZrMlu8tlr5n4R3skifn2SJfT5TJZrH0PSunzZOPO+S8QtkPSUS9EINe5LDBG0AC0Q5iiQLQohNQknWu5dAJhBlyOvUgFjGoJVuTtwi46uAoaoxCFLwB2KZzvKsGvBBRhGLQixx6tTgth5xG1LZEcMvTSasOMiK4+V1bVYMToqBfIxPl8wm48A2sImBmwJ+oWXa7YHdO10ZuIiIKnWHyY6BBLFEms2Wku9GlHsQiAlBBG9e+V358U/uE4aqrvnW5Lh9QHboEYDC8wexaAAPlvAGgTj6eKD/uU507QZXfvfB1p9wf2REhiUMdLQQREXVcW4NYxEjJD9XHLJa+51yuy9oafxSAGwAcE+kAfAn/EZ9R8iCW3arzPgTwYwA7IA1uOQrglLvRlS+nEXmJgHtcXMxkttxluOqqcy7XZb3yfwTgTIB7C0tsRiEKP3xfRg5nG81/hfCflC76z7REc2a2Kp3eABltk2Wg5km9SfPbteVVDYzREk2mHV3xpUv/3vnmIgo/fF9GDr1RlILou9MOGhGDULTBxKEZaSkCVJTmfKfmfBFYtcQAGnWfoF4gdWj6BwVxbx1tmuTfO1Evxw+ByJEM70jMPPnnDMiBSA4mNm16eAesiPUz9YKnqNGp04nRnOq/IVHTy4MUCG3wBjztiE4RhNXrgOrlI8rT2gAdIqKgMOhFlmR4R2iqv0QQUVNPXxCBRQRH3dGTIo0c7LLhndsnRKmvBe/oTL3Rn+p06ibXHPn66vJopz8QEV0RBr3IJPrAWusH0/apiZpVa4LdTaE96fSaLNXl77H45iIKP3xf9lJyDaq3Tfbu0l0WiIgoPARaL5OCwKBHRNSzxEKaR/e37i5IJGMzClH44fuSehP+vRP1cvwQIGonNm8SEVGvwaBHREQ9QZduesBmFKLww/clhZIN0kTyKwkuGdCfFB9KXHuTqJfj+5JCSSxD1u5J5a0sNh1KnKdHREQhk2gyWzwIvKdfIDZ526PdbaYMAwx6REQESBu9Hr6C8+6QH9sbLNtLbwcHIupF2LwZOcRizznwLjyt3kEhCtIi02IPvUKda4jFp52qc/WaKqPk80W6HHi3KsrTpM1WlcUJ7w4MamIx647ul0dE1CoGvcghtgoSQSsP3p0UtkMKPCIoih0O1LsXiP44h3w8G96NadWBz2ax9D0rr92ZByBPtY6n9poimBXKx3MC9N2JoEhE1Kn4QRM51EFLXWMSG72qt/WxwbdWpg6YajadICX20VOP0BTXU2/0KvbG0+6DJ7YZEoE0Sr6eXs0z1DhlgaiX4/sycoialrpWJgKKdodyEXjEFAG9ndEF9W7mevviCU71VkXyOdp8AW8zqLhGMgJfM9RC8vduDMVFiIioQ4YD+Ad8B4MkyqMiN2nSjpUfj0AKQpPcja4dAC7pXPd8c0vLSPn7e+XHv+oVwN3o+kD+NlnexeEyAk9DGCTSyo+dPYglZBj0iIi6VxSAGwBs1BwPFFCSTGaLx93ocsLb5Bdom6HhqhGZ1wL4Ev41Jm3+CfLjRwDO6FyzCt4dHhLlx6MB8g87DHpERN1rvPx4QnNcN6CYzJa7VLWy2Faumwz9YKqVKT/u1xx/E/4BVxuIEyHVUPVqmaHGKQtEvRz79CKDGKWpHajhgH+/mnYQi+hj02uG1A5aEaMx1flEwTtYRhwX/XTa6QvieKHqXPXPRESdikEvMmxXDyKRBQoo2kEsgDeY5UEKXGK+nnYKgjjXIafJgBwYVYNdBBEwxbxBMV3BCe+AGREEs0FE1AUY9CKDA/7BLRnS71cbUHLgG3iEPDkoiakHDugvAC2CV4sc6LIhBUht/jZ4A2eLalqCOt9suSxdNZWAUxaIejm+L0lLrN7SmigEH0BE2nBYbYVTFoiIyEcwgeESgh940p60PQIXnCYiol6DQY+IiHoCTlkg6uXYp0fUTqzpERERaXTpUFEiCsgGwGmx9D2rml+lXZmfKBKFJA4FW9PbE4rMiKjDnACOAYC8GDEgLVMVUSPsiHSEJA6xeZOo51nrcl2+rPr5zW4rCVGEYoc5URiRmzXFyhtEvUFI4lCwNT0OFSUKIy7X5XXyt2u6tSBEXYdxiKgXs7WyWzYRBXBVdxeAeiSHxdKXI3q7WR+z2dzU2NjY3eWIZHLf6e1gF0/ECDbo2cBfOsmi+8dc3FP1JWsYFPHKdu9A7q+eunTh24Zbwc/A7haSOMQpC0REAaRNmIQX//jnqOj+MZ+C85W7G6csEBF1trQJk/Dr3+Ux8EUIBj0iojakT8tijS9CcMoCEVEQ2NTZ7T4KxUWCDXr2UGRGRNSTJd92JwNf93ksFBdh8yYRUZD6mEys8fVwwQY9/mKJiGSs8XWL5FBchFMWiIjaSV3jAz8fu8rGUFyEzZtERFcobcIkRPePienuclDwjG0nIaKOaKg/h+8uXQQAxNuGdnNp2k+U/+qofogZMKi7i0PUIZyyQF3ikKMCI+Oj/L7+fdg1numTf4JN69c0N7ndPudMTh6OWdPTu6nEHdPkdmPT+jXNk5OHY/zIIZg6bgSmjhuBfx92jWdt/svQ3uvI+Cj8LmdWN5VWMmt6OiYnD/c5tnLJ80r5fznjPqzNfxkj46NQ46zutHIcclT4XL8r8qQeISRTFoKt6XHKAoVEbJwVY5JvUx8yHqjch+W58w1ff1WLnMUvKU9YbUMwODauy8vYUU1uN555dBoc5WWGhMQkPPzkM81X94s2fHfxQvP77/3FuGblMnxV8wVeyHsNfUym7i6uQvta1zirseHN15GQmISnchYBAOpqnc2xcVbD1VH9OqUMZbt3YO5jD2Bd8U6lVtwvOrpT86QeIyRTFti8SV1qTPJt+MPKAp9jTW43HrlvPDa8+ToenTNPaUIr2FjaHUXssKULn4WjvAwznnhGBHHRomJ4MHs2Zk1PR0lxEYbfMqL5wezZYdOvrv29nD97BgDw0Mw5SJswSRw2PJg9u9PKcOnCt37HHsye3al5Uu8SbNDjLgvUafqYTLhjYjqOH62Cs/qkEvQOOSow8JrByn/8Nc5qnD97BolJo1G57yP882gV+kVHN6fcMdGg11dW46xGxce7mi9euGAAgDEp4zDKnqI83+R242jVQdiG3gRn9UkcqNiLHyUm4cYfDlPy0dbERBnU19E+X1JchITEJJ9aq1ren9ZjcvLNnmOfHWn1/dfkdiv3CSDgvTa53dhVugVf19ZA7z6FQ44KHKjYCwC4zhqPienTfO5PfW81zmqc+LyqGYDhxLGjOGStgG3oTfju0kXd16ah/hx2/a24+eKFC4ZA5WyoP4eKPR8o5bzOGo+U2+9Sft81zmqcOHYUAJS8RVmuNE/xN3R1VD8l737R0c0T7800sH+yx0kGUNlVmTHgkSK6f8zFwzWXWtrzta54ZwuAlimZWbrP21PTWgC07D95XjkWG2dtsaem+aRJSExS0sbGWVsAtABoWbKqQEm3/+T5limZWS0AWkxmy/excdYWecPVFntqmpLH+3uPtABomfHEM8p1TGbL9+LndcU7/coZG2dtSUhMCnifC15c8X8AWha8uOL/Wns91Pd5uOaS32vz/t4jyv3Fxll97lV97UDp1Pe5/+R5n9dMpDGZLd+/v/eIz+sbG2f1+X2ov9YV72yZnbOoBUCL+rwlqwqUNOrXOr9ws5Imv3CzclxbBvE6i9+Z+lqHay7p5ileZ+3fweycRbqvqzo/vXvvyFd0/5iLnfZmI7WQxKGwaVqh3uFM3WmUbilSvjatX9M8a3o6HOVlWPDiiua2+riOy7WeDw+fwvbKY1hXvBMms8Wz+pWlSppdpVtQUlyE2TmL8PcTZ43bK49h72e1ximZWXCUl6Fyn29/+IY3X8fsnEV4f+8RLF/9tvHROfMAANs2ve2T7pCjAnWnazH1/oeaA5Xv2GdHDAAw7OakVt9bbd3nsoXPoaH+vOf9vUewvfIYtlcew/t7jyA2zor8vFwl/7deW4GG+vMe8XpsrzyG2TmL4Cgvw67SLcrr4Sgvw5JVBT7Xcje6jMsWPqebf8HGUqwr3gkAWLKqAIdrLunWHmuc1Vg8bxbsqWnwluFzY0JiEuY+9gAa6s+hye3GgjmPeG784TCjupz5hZvhbnQZxev8h5UFWLJKamJdV7wT2yuP6ZatbPcOLM+db1Dn+eHhU5iSmYU1K5ehdEuRT/qS4iJk/Pxh7D95Hn8/cda4ZFUB3I0u41uvrWj1d0CRiX161KUc5WVwlJepDxkAICExqc1AIeT9ab3SJDbKnoKJ6fcZS4qL0FB/DjEDBiEquj+mZGbh0dnzlHP6mEzIePARlBQX+fUbJSQm4cm5vwXgnVJgT03DrtKtnhfyXjOKACU+nCfem9lmOQdeMziYWwlo9Nif4I6JP/Vprou3DcWY5NtQUlykvG/P1J1GzICBxquv9g7yeHT2PFxnjceto8cCgNKcGBXd3+da+YWbEdUvukPlLN6wDgCwKO9V5XcSM2AQfvP7Fdi26W04q09i4DWD8cCMx423353uM+UhbcIkxMZZcabudLvyLFr3BgDfv4OYAYPwQt5r2FW61fOXdauN6dOylPTq3y8g7Ziw+pWlOHn88yu7aerRgg16nLJAIWFPTcOsec/7HPu61onVryzFzMy7sa54Z8D+MkAa/anti7k+/kYAwHeXLiJmwCCkTZiEtAmT0OR2o8ZZjS/+dQJ1tc7mj3f9t26wuinhZr9jcq3QuKt0C9KnZcn9Zls9UzKzjF3RFyR/SBsa6s/BWX0SX9c6ceLYURyo3OeT7o6JP21enjvfMO4Wq2di+n1Ge2oaUm6/C+oP/Xsy7sealcsw97EHYE9Nw+ixP8E9GferB6dcsX9U7kVsnNVv/uEoe4rP71H0b4r7OfF5VfOxz44Y6k7Xwmob0q48qw46PAmJSX6/hz4mE5JG242af6p0f7/R/WNw4duGduVL3Y5TFqjnGRwb5xfURtlTcOvosZg6bgQKVr3U4VGbTW43li58FiXF3mau2DhaBK1qAAAMyUlEQVSrIdCHqwiaahPTp2HpwrmekuIiY/q0LFTu+wjuRpcx48FHWs1bXOvTg/tbnYhe46zGtbHXB2zmPOSowH/8fr7SnAtINRatB7NnG67uF42/rFttLCkuUu7Znpqm1ITibUOxrngnCla9pNS016xchtg4KxYs+WOHgl+wgaN0SxFWv7IUdadrAQAms6U5abTdYDJbPGhni5O70WXsF/0D3efEtIsmt7vVJuR+0T9g0Ot5uMsCRQ4RIGqdpzp8LRHwZjzxDNYV71T6fbQ1zNb0MZnwwIzHjY7yMjTUn0PRujcQG2dttRYKSCMnAWibcH00ud14avoUjLvF6tFOUgek2tCcX2R4LnzbgCWrCvD+3iPYf/I8Nm7/RDvHEYDUXLdx+yf48PApLFlVAHtqGhzlZVj4dLaSZpQ9BQUbS7H/5HnkF27GjCeeQUP9eY/od7tS0f31V+BqcruV6x5yVGDxvFmI7h+D/MLN+PDwKfz9xFljwcZSxAwY2O4uFpPZ4rl44X91nxNNpeE0/5HCC3dZoLAgVttob1OXnl2lWz1iysAoe4rSHCoPgw/a7XdLq8Hs+ltxs6O8DBk/f7jNc0bZU5CQmISS4iIcclTopvlrUWFz3elaTEy/z6j34fzZ4QNwN7qMDz/5THP6tCzE24YqH+Lafqjf5czC2vyXAUj9WunTslCwsRQJiUnKPxBisBDgXSg5Z/FLeGxOjhEAnNUng3o99NyUcDPqTtf6Bc6jVQcxfuQQbFq/pnnPTqnmvnz120ibMEn5fTTUn1Nqfu2RNNpuPH60yi/PJrdbNH1e4d1QmOMuC9TznKk7jUOOCp+vTevXND81fQoAIGvmLzucR8yAgcYv/nXCo/5QPOSoUEY9ioEdbREBTJx3T8b9QZ33m99LowLn/CLDo15eraH+HNbmv4zlufMNsXFWzF20VPd8MbhEjAQFpA/0tfkvK82d4t7O1J1G4eqVHvUSXXI/pkf8A3HxwgWDo7xMCY7iegf3fwIAsA29Kaj70vP4s/MBAAufzlaWVmtyu1GwSurDm3hvprKSSsXHu5R/Ohrqzyk1Ub1a24nPq5oD1UDF34g2z6ULn4W70WV8aOacK74fCmsh2WWBozepS+mM3gQAg8ls8Sx4cYUhbcKkDje5z/n1C1g8b5ZxcvLNnqTRduPFC/+L40erMDtnkbIEWLCm3v9Q8/Lc+UZ7alrQi0WPsqdgXfFOvPDc48blufOxPHe+z/OxcVb8eWNJwMWbR9lTYE9NQ0lxEQ5U7oPVNkSptU3JzEJJcZEyiX9R3qt4avoU49RxI5Q+v+NHqxAbZzUuynsVgDSa8+D+T7Bm5TJse/cdWG1DUHXQ4XE3uoxLVhV0aBHpeNtQLHhxhTKY5sYfDjN+8a8THnejy5hfuBkxAwYhc8ZMbHv3HSzPnW94/72/oF/0D1B10OFJGm032lPTUHXQ4Wlyu419TCZlxOny3PmG5bnzcbjmkl+eaRMm+eSZNNpuFPczO2eRzyAeIq2rgkznBJs4SRbdP+binqovo9pzjliNQ891Vpvu6idlu3cAgDLQQvuzUOOsxqcH9/usMFLjrMb/bHsPAHxW4FBfQ6xkcuvosQED2iFHBWZm3o0lqwra/WGqXlHlq5ovcH38jfhRYhKSb7vT715LtxThOqtN6TPUrsYizvvuu4uo2POBT5n1VjrRrrYSzOou2tdXXFedl95rLY6L1W/0rq1ePQXwrhojrqddmUXUCn+W9Zjhm7qvrihPvdc10L12xO1JN1y68G0DFwbtfCGJQ8EGvUKEaOQM9XxXEvR6qpVLnsfmDW959n5Wq9v/Rp2vrZGY3Y1Br8uEJA4F25QkMsqAFG3FV54qTaQ/l6N5Lqe3PtfoclkQwZrcbpRuKcLa/Jex4c3X8cCMxxnwulG4v/by+0H93slQPZ3Xi58r1DyX3MHnQlLxCramR6ToDTW9kfHS7SUkJuGNDVu5eSoFxJpez8KBLEQ63t97JOBOC0TUczHoEemItw0NerQmEfUcXJGFiIh6DQY9IiLqNRj0iHqYQ46KDq2XSdSbsU+PSEVsaBtIQmISHpo5p9NX/Zg1PR21zlN+G6mKyfIfHj6FGmc1po4b0ep1YuOsATdjbW/eRJGAQY9Ix4IXVzRf3S9aaQn57uKF5q+/qjVs3vCWZ/G8Wcao6P4hWc2jvQ5U7EVCYhJiBgzCd5cuApAC8R0T03XT94uObgZbdIgUDHpEOnSWtDIAQOaMmcap40bgzyuXdUvQO7j/E/w4eZzPsZsSbvbZGVyDAY9IhUGPqB3ibUMRG2f12dxVEOt9inU278m4X3fag1gzUuyiMPyWEcraoK1pqD8HR3lZu/YFDFXeYo1MbQ032HsmChf8L5CoHcQecNo929bmv4yp40agcPVKj9juZ+q4Edi0fo3PHn6b1q9pnjpuBPLzcpvP1J3GyeOfY3nufMPk5Jt9tgfSU7HnA5jMFk9i0ugrKntreQfa+w+QAttT06dg9StLceMPh/ldT9zztnffgd49E4UT1vSIdJw/e8bv2KcH92P1K9IeeOo928p278CalcswJTMLL+S9ZuxjMqHJ7TYuXfgslufON6TcMRHxtqGocVZjee58gz01Da//5xZlPc+y3Tsw97EHjMUb1iFn8UsBy+QoL0PSaLvfOqBn6k6jdEuRX3p1rayh/pxu3vLAGOO2TW/r7govAh4A/FdpmbIc2yFHBZbnzjdo7hninofdnNTmLvNE3YFBj0jHzMy7dY/Hxln9thkqWvcGTGaLR3z4A9IiyXMXLUVJcRHeem0F/rCyAAAwO2cR7sm432dpMxGY/nns01bLdKByHx5+8hm/gSkB9ihEbJxVufZ3ly7q5j3KnoLYOCvO1J32Oz9QwAOAbZveBgDMXbQU6nt+Ie817Crd6tm26W0jgx6FIwY9Ih3q0Zsnjh3Fhjdfhz01DXl/Wu+3+HTVQYcnZsBA43+uWeV3HZPZ4jl5/HMjIPUHPjn3t2hyu3HIUYGva534urZG2cG8NTXOatSdrkXKHRP9uiTsqWlt9vO1lnfd6VqIXdaFhvrznqemTzHWna7FghdXNMcMGOST74HKfTCZLZ7iDev8PkNiBgw0Hqjc1+Y9EXUHBj0iHT6jN6cBw4YnYvG8WfhFehq27TnsU1tyN7qMDfXnPdvefUc3APSL/oHy89r8l1G4eqXH3egyAtJ0g5sSbm6zPP+z7T3Exll1B4kMjo0LqilRm3dsnBVjkm+DyWzxQPNZ4G50GaP7xyC6fwzy83L9NmitO10LAMZt776jm5c2iBKFCwY9oiCkT8tSanxLFz6rNFcCUm0uabTdWLCxtNVrlG4pwpqVy2BPTTPOmve8zw4OJcX+fXJqB/d/gjHJt11x+VvLe1fpVr/0JrPF8/bWD43f1H2FqeNGGJctfA7q+4uNsyK6fww2bm+7lkoUTjh6kyhIT8/PRWycFSXFRSjbvUM5njTabnSUl/ktDdZQfw6zpqdjbf7LAKD0uy3KexWj7ClK0Glr1GaT2w1HeRnGT85oNV1rWstb1PzUYgYMNPYxmRBvG4rZOYvgKC/zGZU5Jvk2HD9a5Vf2Jrcbs6anY+WSK59WQdSZGPSIgtTHZMKCJX8EACxf/Cs0ud0AgKyZvwQALHw6Wwl8DfXnsPDpbDjKy3CdNR4A8IP+AwBIo0CFGmc1Fsx5pNV8K/d9BABIvu3OKy779fE3AgAqPt6lBK4aZzWWLXyuzXMfnT0PsXFW5OflNosgl/GgVOZlC59TAp8YvekoL8N111s5bYHCEoMeUTukTZiEKZlZqDtdiz+teFE5tuDFFc2O8jKMHzkEk5OHY/zIIXCUl2F2ziJlpOejc6TgsXjeLExOHo7pk3+CqeNG4MfJ42BPTUOt85Rungcr98GemtahzWwzZ8xEbJxVnpfnzXtwbBzsqWmoOujwiCCu1cdkwtJX34K70WVcMOcRNLndGGVPwZJVBXCUl2HquBGYnDwc426xekqKizDjiWfwYPZsfrZQWLqquwtAPU90/5iLe6q+jOrucnSGGmd1mzumN9Sfg7P6JAD4DCBpqD+Hij0f4OvaGvSLjvYb/AFItaHKfR/hn0erfNJo8xU/j7KnoHRLEa6z2vwGqzS53ThadRADrxkc1CooV5K3mpjArn5tgrnnSHd70g2XLnzb0K+7y0HBYdCjdovkoEfUXgx6PQubIIiIqNdg0CMiol6DQY+IiHoNBj0iIuo1OJCF2s1i6Xv23/pFR3d3OYjCwfkzdVUA7N1dDiIiIiIiIiIiIiIiIiIiIiIiIiIiIiIiIiIiIiIiIiIiIiIiIiIiIiIiIiIiIiIiIiIiIiIiIiIiIiIiIiIi6ir/H+n1AjFD7IUyAAAAAElFTkSuQmCC)"
      ],
      "metadata": {
        "id": "j8LhoJwLIxS-"
      }
    },
    {
      "cell_type": "markdown",
      "source": [
        "## Import Libraries"
      ],
      "metadata": {
        "id": "fyxIR3ZoeW9W"
      }
    },
    {
      "cell_type": "code",
      "execution_count": null,
      "metadata": {
        "id": "_pWUlUT2C7xF"
      },
      "outputs": [],
      "source": [
        "import numpy as np \n",
        "import torch.nn as nn\n",
        "import torch\n",
        "from torch.utils.data.dataloader import DataLoader\n",
        "import torchvision.datasets as datasets\n",
        "import torchvision\n",
        "import matplotlib.pyplot as plt \n",
        "import PIL.Image as Image\n",
        "import torch.functional as F\n",
        "import pandas as  pd\n",
        "import torchvision.transforms as T\n",
        "from torchvision.utils import make_grid"
      ]
    },
    {
      "cell_type": "markdown",
      "source": [
        "## Getting the MNIST Fashion dataset"
      ],
      "metadata": {
        "id": "yrUzfZLJgijL"
      }
    },
    {
      "cell_type": "code",
      "source": [
        "transforms= T.Compose(\n",
        "    [T.ToTensor(), T.Normalize((0.5,), (0.5))]\n",
        ")"
      ],
      "metadata": {
        "id": "4bx-C4fshKrW"
      },
      "execution_count": null,
      "outputs": []
    },
    {
      "cell_type": "code",
      "source": [
        "data_mnist= datasets.FashionMNIST(root='.', train=True, transform=transforms, download=True)"
      ],
      "metadata": {
        "colab": {
          "base_uri": "https://localhost:8080/",
          "height": 423,
          "referenced_widgets": [
            "63b4e38a1e1e4bbeb4f48cfb92ad8057",
            "f589a8aa4b6d443b902d1e7da50bab9f",
            "565fe23558f94aa19eac08305da405d4",
            "fc1a18b59a9d48e5b81791812903a4ca",
            "24d29beaa2a149379a6252927cab387b",
            "2d7078184c284eb8a945c6de8b2313a0",
            "b6bd3767f8d54f8986d1362afbd9bd76",
            "c66229c30187487da76fb1e1fb1f7d0d",
            "660ff629d28f4234bbceadc2ee075172",
            "8a7a31ed508744fcb49702ff82f2e11f",
            "6b17b232500d4411bd55fa761f618bb0",
            "f559fd407186441d871127c996c476c9",
            "38bf7287dbe547b48ad232f474571b83",
            "754b9d24266d4513a1f2e90b33445a84",
            "9bfb419c352b45b9bb55c0722793d745",
            "6b1def65d5284408bccfd494c2c65305",
            "55a86f0f66b641868631641380202004",
            "adc6a7bbd8934926b9fea6405cfad437",
            "7e3a59804ba048d3a14ba1d58ee5d7d3",
            "c0683b568ce94652ac1c1acbea54d640",
            "5456254705874a09aab153bfe32cc689",
            "73225fb2b59a455db211cf2125536be8",
            "ce7d4464379f484093447e355e89b1e1",
            "b056a3d8b7544c249dbb4d810aefcf51",
            "c77b89eda535457fb791674a4654ca23",
            "caffdf9faaa14030991dc9149134d172",
            "ad442544d345423890f529f78cfc9420",
            "452340f8d0bf48bc812fbee4217d1b81",
            "4c621c8ba364495e88ef3014642e2a54",
            "9593e0558525415f92b55dafde108621",
            "5a3cd9e2955d4d1290783563695baf8f",
            "f6d50a04ddd44d098b8167657bcffe9c",
            "4ee29cfc724e4a499b1249461611ed51",
            "0a17662e30594914a61c525e1a521c69",
            "21e6f0e9d6034067ab33da3d6339abe3",
            "332bc8445ec64535bb183e8bfe9d7756",
            "08d06900c4d341fcae8609325635386c",
            "2da1925e9e4d4080aada1e1b73c5db72",
            "71f9b402e21b4c35a773cb80baffcc60",
            "047a189668c44cdd96073fd8c6bacc84",
            "797787ca27ae4586b3b6d580cc171ebe",
            "91bb6ef439bc4dafbb46035d9c03b37e",
            "6c351ff8261742cc9160360ef25c916f",
            "8c8edb21214f4e06b959cbecc119617e"
          ]
        },
        "id": "GzLIm0poeyCC",
        "outputId": "5d982d0f-627d-4f89-f2ce-6b38d04467c7"
      },
      "execution_count": null,
      "outputs": [
        {
          "output_type": "stream",
          "name": "stdout",
          "text": [
            "Downloading http://fashion-mnist.s3-website.eu-central-1.amazonaws.com/train-images-idx3-ubyte.gz\n",
            "Downloading http://fashion-mnist.s3-website.eu-central-1.amazonaws.com/train-images-idx3-ubyte.gz to ./FashionMNIST/raw/train-images-idx3-ubyte.gz\n"
          ]
        },
        {
          "output_type": "display_data",
          "data": {
            "text/plain": [
              "  0%|          | 0/26421880 [00:00<?, ?it/s]"
            ],
            "application/vnd.jupyter.widget-view+json": {
              "version_major": 2,
              "version_minor": 0,
              "model_id": "63b4e38a1e1e4bbeb4f48cfb92ad8057"
            }
          },
          "metadata": {}
        },
        {
          "output_type": "stream",
          "name": "stdout",
          "text": [
            "Extracting ./FashionMNIST/raw/train-images-idx3-ubyte.gz to ./FashionMNIST/raw\n",
            "\n",
            "Downloading http://fashion-mnist.s3-website.eu-central-1.amazonaws.com/train-labels-idx1-ubyte.gz\n",
            "Downloading http://fashion-mnist.s3-website.eu-central-1.amazonaws.com/train-labels-idx1-ubyte.gz to ./FashionMNIST/raw/train-labels-idx1-ubyte.gz\n"
          ]
        },
        {
          "output_type": "display_data",
          "data": {
            "text/plain": [
              "  0%|          | 0/29515 [00:00<?, ?it/s]"
            ],
            "application/vnd.jupyter.widget-view+json": {
              "version_major": 2,
              "version_minor": 0,
              "model_id": "f559fd407186441d871127c996c476c9"
            }
          },
          "metadata": {}
        },
        {
          "output_type": "stream",
          "name": "stdout",
          "text": [
            "Extracting ./FashionMNIST/raw/train-labels-idx1-ubyte.gz to ./FashionMNIST/raw\n",
            "\n",
            "Downloading http://fashion-mnist.s3-website.eu-central-1.amazonaws.com/t10k-images-idx3-ubyte.gz\n",
            "Downloading http://fashion-mnist.s3-website.eu-central-1.amazonaws.com/t10k-images-idx3-ubyte.gz to ./FashionMNIST/raw/t10k-images-idx3-ubyte.gz\n"
          ]
        },
        {
          "output_type": "display_data",
          "data": {
            "text/plain": [
              "  0%|          | 0/4422102 [00:00<?, ?it/s]"
            ],
            "application/vnd.jupyter.widget-view+json": {
              "version_major": 2,
              "version_minor": 0,
              "model_id": "ce7d4464379f484093447e355e89b1e1"
            }
          },
          "metadata": {}
        },
        {
          "output_type": "stream",
          "name": "stdout",
          "text": [
            "Extracting ./FashionMNIST/raw/t10k-images-idx3-ubyte.gz to ./FashionMNIST/raw\n",
            "\n",
            "Downloading http://fashion-mnist.s3-website.eu-central-1.amazonaws.com/t10k-labels-idx1-ubyte.gz\n",
            "Downloading http://fashion-mnist.s3-website.eu-central-1.amazonaws.com/t10k-labels-idx1-ubyte.gz to ./FashionMNIST/raw/t10k-labels-idx1-ubyte.gz\n"
          ]
        },
        {
          "output_type": "display_data",
          "data": {
            "text/plain": [
              "  0%|          | 0/5148 [00:00<?, ?it/s]"
            ],
            "application/vnd.jupyter.widget-view+json": {
              "version_major": 2,
              "version_minor": 0,
              "model_id": "0a17662e30594914a61c525e1a521c69"
            }
          },
          "metadata": {}
        },
        {
          "output_type": "stream",
          "name": "stdout",
          "text": [
            "Extracting ./FashionMNIST/raw/t10k-labels-idx1-ubyte.gz to ./FashionMNIST/raw\n",
            "\n"
          ]
        }
      ]
    },
    {
      "cell_type": "code",
      "source": [
        "batch_size =32 \n",
        "train_loader = DataLoader(dataset= data_mnist, batch_size =batch_size, shuffle= True)"
      ],
      "metadata": {
        "id": "8E_RpK0YhzzS"
      },
      "execution_count": null,
      "outputs": []
    },
    {
      "cell_type": "code",
      "source": [
        "# Showing the data\n",
        "\n",
        "real, labels = next(iter(train_loader)) \n",
        "\n",
        "for i in range(16):\n",
        "\n",
        "  ax =plt.subplot(4, 4, i+1)\n",
        "  plt.imshow(real[i].reshape(28,28), cmap='gray_r')\n",
        "  plt.xticks([])\n",
        "  plt.yticks([])"
      ],
      "metadata": {
        "colab": {
          "base_uri": "https://localhost:8080/",
          "height": 248
        },
        "id": "GV87jMaXiv9H",
        "outputId": "1241a2dd-8b6b-4e0c-db78-913d275440c3"
      },
      "execution_count": null,
      "outputs": [
        {
          "output_type": "display_data",
          "data": {
            "text/plain": [
              "<Figure size 432x288 with 16 Axes>"
            ],
            "image/png": "[encoded data removed]"
          },
          "metadata": {}
        }
      ]
    },
    {
      "cell_type": "markdown",
      "source": [
        "## Creating the discriminator model"
      ],
      "metadata": {
        "id": "h1gN89zAkRf-"
      }
    },
    {
      "cell_type": "code",
      "source": [
        "class Discriminator(nn.Module):\n",
        "  def __init__(self):\n",
        "    super().__init__()\n",
        "    self.flat =nn.Flatten()\n",
        "\n",
        "    self.dis_model=nn.Sequential(\n",
        "        #1st layer \n",
        "        nn.Linear(784, 1024),\n",
        "        nn.ReLU(), \n",
        "        nn.Dropout(0.3), \n",
        "\n",
        "        #2nd Layer \n",
        "        nn.Linear(1024, 512),\n",
        "        nn.ReLU(), \n",
        "        nn.Dropout(0.3), \n",
        "\n",
        "        #3rd Layer\n",
        "        nn.Linear(512, 256), \n",
        "        nn.ReLU(), \n",
        "        nn.Dropout(0.3), \n",
        "        \n",
        "        #4th layer \n",
        "        nn.Linear(256, 1),\n",
        "        nn.Sigmoid()\n",
        "\n",
        "\n",
        "    )\n",
        "\n",
        "\n",
        "  def forward(self, x):\n",
        "    \n",
        "    x=self.flat(x)\n",
        "    out=self.dis_model(x)\n",
        "\n",
        "    return out\n"
      ],
      "metadata": {
        "id": "UZIlp65gjYJK"
      },
      "execution_count": null,
      "outputs": []
    },
    {
      "cell_type": "code",
      "source": [
        "device=torch.device('cuda' if torch.cuda.is_available() else 'cpu')\n",
        "discriminate =Discriminator().to(device)"
      ],
      "metadata": {
        "id": "bho3Rydol9a_"
      },
      "execution_count": null,
      "outputs": []
    },
    {
      "cell_type": "markdown",
      "source": [
        "## Creating the Generator"
      ],
      "metadata": {
        "id": "13XjFOOQnhVN"
      }
    },
    {
      "cell_type": "code",
      "source": [
        "class Generator(nn.Module):\n",
        "  def __init__(self):\n",
        "    super().__init__()\n",
        "  \n",
        "    self.gen_model=nn.Sequential(\n",
        "        #1st layer \n",
        "        nn.Linear(100, 256),\n",
        "        nn.ReLU(), \n",
        "        \n",
        "        #2nd Layer \n",
        "        nn.Linear(256, 512),\n",
        "        nn.ReLU(), \n",
        "        \n",
        "        #3rd Layer\n",
        "        nn.Linear(512, 1024), \n",
        "        nn.ReLU(), \n",
        "                \n",
        "        #4th layer \n",
        "        nn.Linear(1024, 784),\n",
        "        nn.Tanh()\n",
        "    )\n",
        "\n",
        "\n",
        "  def forward(self, x):\n",
        "    \n",
        "    out=self.gen_model(x)\n",
        "    out=out.view(x.size(0), 1, 28, 28)\n",
        "\n",
        "    return out"
      ],
      "metadata": {
        "id": "SKWWV9E7mGcT"
      },
      "execution_count": null,
      "outputs": []
    },
    {
      "cell_type": "code",
      "source": [
        "generator =Generator().to(device)"
      ],
      "metadata": {
        "id": "hRON_i5QoPWn"
      },
      "execution_count": null,
      "outputs": []
    },
    {
      "cell_type": "markdown",
      "source": [
        "## Time to Trainnnn!!!\n"
      ],
      "metadata": {
        "id": "wu-yz4b3oa7n"
      }
    },
    {
      "cell_type": "code",
      "source": [
        "lr=0.0001\n",
        "epochs=50\n",
        "loss_function =nn.BCELoss()\n",
        "\n",
        "optim_gen= torch.optim.Adam(generator.parameters(), lr=lr)\n",
        "optim_dis= torch.optim.Adam(discriminate.parameters(), lr=lr)"
      ],
      "metadata": {
        "id": "wBGxe5UqoTv2"
      },
      "execution_count": null,
      "outputs": []
    },
    {
      "cell_type": "code",
      "source": [
        "for epoch in range(epochs):\n",
        "\n",
        "  for n, (input_data, labels) in enumerate(train_loader):\n",
        "\n",
        "    input_data =input_data.to(device)\n",
        "\n",
        "    # create ones for labels of the discriminator i.e. binary 1 for real 0 for fake \n",
        "    input_labels=torch.ones((batch_size,1)).to(device)\n",
        "\n",
        "    #create noise as the input data for the first instance \n",
        "\n",
        "    noise = torch.randn((batch_size, 100)).to(device)\n",
        "    fake_labels=torch.zeros((batch_size,1)).to(device)\n",
        "\n",
        "    # Put noise into the generator \n",
        "    generated_data =  generator(noise)\n",
        "\n",
        "    #combine real and fake samples and labels for training\n",
        "\n",
        "    all_data = torch.cat((input_data, generated_data))\n",
        "    all_labels= torch.cat((input_labels, fake_labels)) \n",
        "\n",
        "    #Training the discriminator\n",
        "    discriminate.zero_grad()\n",
        "    \n",
        "    discriminate_output=discriminate(all_data)\n",
        "    loss_discrminate = loss_function(discriminate_output, all_labels)\n",
        "\n",
        "    loss_discrminate.backward()\n",
        "    optim_dis.step()\n",
        "\n",
        "    #data for the generator\n",
        "    noise = torch.randn((batch_size, 100)).to(device)\n",
        "    \n",
        "    #Training the generrator\n",
        "    generator.zero_grad()\n",
        "\n",
        "    generated_output =generator(noise)\n",
        "    dis_gen_output=discriminate(generated_output)\n",
        "    loss_generate=loss_function(dis_gen_output, input_labels)\n",
        "\n",
        "    loss_generate.backward()\n",
        "    optim_gen.step()\n",
        "\n",
        "    #print loss\n",
        "\n",
        "    if n== batch_size-1:\n",
        "\n",
        "      print(f'Epoch: {epoch+1} Loss Dis: {loss_discrminate}')\n",
        "      print(f'Epoch: {epoch+1} Loss Gen: {loss_generate}')\n"
      ],
      "metadata": {
        "colab": {
          "base_uri": "https://localhost:8080/"
        },
        "id": "JZY75TCRo_5Y",
        "outputId": "c7ff950e-e059-4f9b-d5b7-e5ddb3e350d3"
      },
      "execution_count": null,
      "outputs": [
        {
          "output_type": "stream",
          "name": "stdout",
          "text": [
            "Epoch: 1 Loss Dis: 0.5271233320236206\n",
            "Epoch: 1 Loss Gen: 0.5575114488601685\n",
            "Epoch: 2 Loss Dis: 0.061847396194934845\n",
            "Epoch: 2 Loss Gen: 5.347182273864746\n",
            "Epoch: 3 Loss Dis: 0.12600818276405334\n",
            "Epoch: 3 Loss Gen: 4.844777584075928\n",
            "Epoch: 4 Loss Dis: 0.24686014652252197\n",
            "Epoch: 4 Loss Gen: 3.8116583824157715\n",
            "Epoch: 5 Loss Dis: 0.24329225718975067\n",
            "Epoch: 5 Loss Gen: 2.0552616119384766\n",
            "Epoch: 6 Loss Dis: 0.26475387811660767\n",
            "Epoch: 6 Loss Gen: 2.373274803161621\n",
            "Epoch: 7 Loss Dis: 0.29226529598236084\n",
            "Epoch: 7 Loss Gen: 2.437760829925537\n",
            "Epoch: 8 Loss Dis: 0.4970649778842926\n",
            "Epoch: 8 Loss Gen: 1.9807929992675781\n",
            "Epoch: 9 Loss Dis: 0.47054654359817505\n",
            "Epoch: 9 Loss Gen: 1.685510516166687\n",
            "Epoch: 10 Loss Dis: 0.6012234687805176\n",
            "Epoch: 10 Loss Gen: 1.8938716650009155\n",
            "Epoch: 11 Loss Dis: 0.45316946506500244\n",
            "Epoch: 11 Loss Gen: 1.349173665046692\n",
            "Epoch: 12 Loss Dis: 0.6224103569984436\n",
            "Epoch: 12 Loss Gen: 1.2399795055389404\n",
            "Epoch: 13 Loss Dis: 0.5013935565948486\n",
            "Epoch: 13 Loss Gen: 1.3462350368499756\n",
            "Epoch: 14 Loss Dis: 0.41558921337127686\n",
            "Epoch: 14 Loss Gen: 1.1473500728607178\n",
            "Epoch: 15 Loss Dis: 0.5288240313529968\n",
            "Epoch: 15 Loss Gen: 1.231709599494934\n",
            "Epoch: 16 Loss Dis: 0.558366060256958\n",
            "Epoch: 16 Loss Gen: 1.1044775247573853\n",
            "Epoch: 17 Loss Dis: 0.5595477223396301\n",
            "Epoch: 17 Loss Gen: 1.128961443901062\n",
            "Epoch: 18 Loss Dis: 0.5909748077392578\n",
            "Epoch: 18 Loss Gen: 1.17238187789917\n",
            "Epoch: 19 Loss Dis: 0.5173429250717163\n",
            "Epoch: 19 Loss Gen: 1.0843256711959839\n",
            "Epoch: 20 Loss Dis: 0.5263832807540894\n",
            "Epoch: 20 Loss Gen: 0.9712285995483398\n",
            "Epoch: 21 Loss Dis: 0.6408717632293701\n",
            "Epoch: 21 Loss Gen: 1.1065232753753662\n",
            "Epoch: 22 Loss Dis: 0.6104413866996765\n",
            "Epoch: 22 Loss Gen: 1.0692503452301025\n",
            "Epoch: 23 Loss Dis: 0.49753186106681824\n",
            "Epoch: 23 Loss Gen: 0.947136640548706\n",
            "Epoch: 24 Loss Dis: 0.6051164865493774\n",
            "Epoch: 24 Loss Gen: 0.8866321444511414\n",
            "Epoch: 25 Loss Dis: 0.5901505351066589\n",
            "Epoch: 25 Loss Gen: 0.9351036548614502\n",
            "Epoch: 26 Loss Dis: 0.566866397857666\n",
            "Epoch: 26 Loss Gen: 1.03340744972229\n",
            "Epoch: 27 Loss Dis: 0.6986544132232666\n",
            "Epoch: 27 Loss Gen: 0.9775164723396301\n",
            "Epoch: 28 Loss Dis: 0.6102240085601807\n",
            "Epoch: 28 Loss Gen: 0.8014242649078369\n",
            "Epoch: 29 Loss Dis: 0.642641544342041\n",
            "Epoch: 29 Loss Gen: 0.9100195169448853\n",
            "Epoch: 30 Loss Dis: 0.6382056474685669\n",
            "Epoch: 30 Loss Gen: 0.9535525441169739\n",
            "Epoch: 31 Loss Dis: 0.611016035079956\n",
            "Epoch: 31 Loss Gen: 0.8375281691551208\n",
            "Epoch: 32 Loss Dis: 0.561691164970398\n",
            "Epoch: 32 Loss Gen: 0.9875379800796509\n",
            "Epoch: 33 Loss Dis: 0.6480111479759216\n",
            "Epoch: 33 Loss Gen: 0.8097729086875916\n",
            "Epoch: 34 Loss Dis: 0.5882059335708618\n",
            "Epoch: 34 Loss Gen: 0.7720804214477539\n",
            "Epoch: 35 Loss Dis: 0.5884870290756226\n",
            "Epoch: 35 Loss Gen: 0.9241235256195068\n",
            "Epoch: 36 Loss Dis: 0.5942947268486023\n",
            "Epoch: 36 Loss Gen: 0.8621015548706055\n",
            "Epoch: 37 Loss Dis: 0.6405806541442871\n",
            "Epoch: 37 Loss Gen: 0.7899633646011353\n",
            "Epoch: 38 Loss Dis: 0.6306091547012329\n",
            "Epoch: 38 Loss Gen: 0.8921219110488892\n",
            "Epoch: 39 Loss Dis: 0.6793438792228699\n",
            "Epoch: 39 Loss Gen: 0.8980990648269653\n",
            "Epoch: 40 Loss Dis: 0.6332734227180481\n",
            "Epoch: 40 Loss Gen: 0.754400908946991\n",
            "Epoch: 41 Loss Dis: 0.5919815301895142\n",
            "Epoch: 41 Loss Gen: 0.8314974904060364\n",
            "Epoch: 42 Loss Dis: 0.6277816295623779\n",
            "Epoch: 42 Loss Gen: 0.8366721868515015\n",
            "Epoch: 43 Loss Dis: 0.6167718768119812\n",
            "Epoch: 43 Loss Gen: 0.794235348701477\n",
            "Epoch: 44 Loss Dis: 0.646143913269043\n",
            "Epoch: 44 Loss Gen: 0.7329791784286499\n",
            "Epoch: 45 Loss Dis: 0.6668118238449097\n",
            "Epoch: 45 Loss Gen: 0.8858648538589478\n",
            "Epoch: 46 Loss Dis: 0.5860421657562256\n",
            "Epoch: 46 Loss Gen: 0.9532379508018494\n",
            "Epoch: 47 Loss Dis: 0.6334003210067749\n",
            "Epoch: 47 Loss Gen: 0.806693971157074\n",
            "Epoch: 48 Loss Dis: 0.7320361137390137\n",
            "Epoch: 48 Loss Gen: 0.8142913579940796\n",
            "Epoch: 49 Loss Dis: 0.6500034928321838\n",
            "Epoch: 49 Loss Gen: 0.8312003016471863\n",
            "Epoch: 50 Loss Dis: 0.6125675439834595\n",
            "Epoch: 50 Loss Gen: 0.881045937538147\n"
          ]
        }
      ]
    },
    {
      "cell_type": "markdown",
      "source": [
        "## Testing to see if it works "
      ],
      "metadata": {
        "id": "uW4JovlBOssx"
      }
    },
    {
      "cell_type": "code",
      "source": [
        "noise= torch.randn((batch_size , 100)).to(device)\n",
        "generated_data = generator(noise)\n",
        "\n",
        "\n"
      ],
      "metadata": {
        "id": "6EECPFErOxNA"
      },
      "execution_count": null,
      "outputs": []
    },
    {
      "cell_type": "markdown",
      "source": [
        "# plotting results"
      ],
      "metadata": {
        "id": "L9SOOc8EPAdu"
      }
    },
    {
      "cell_type": "code",
      "source": [
        "generated_data = generated_data.cpu().detach()\n",
        "\n",
        "for i in range(16):\n",
        "    ax = plt.subplot(4, 4, i + 1)\n",
        "    plt.imshow(generated_data[i].squeeze(), cmap=\"gray_r\")\n",
        "    plt.xticks([])\n",
        "    plt.yticks([])"
      ],
      "metadata": {
        "colab": {
          "base_uri": "https://localhost:8080/",
          "height": 248
        },
        "id": "czUd43BgPDcS",
        "outputId": "9b469994-2f56-4ba0-efc9-d70958f54fd7"
      },
      "execution_count": null,
      "outputs": [
        {
          "output_type": "display_data",
          "data": {
            "text/plain": [
              "<Figure size 432x288 with 16 Axes>"
            ],
            "image/png": "[encoded data removed]"
          },
          "metadata": {}
        }
      ]
    },
    {
      "cell_type": "code",
      "source": [
        "torch.save(generator, '/content/drive/MyDrive/Colab Notebooks/PERSONAL PROJECTS/mnist_fashion_generator.pth')"
      ],
      "metadata": {
        "id": "6rruWgYwQ9VW"
      },
      "execution_count": null,
      "outputs": []
    },
    {
      "cell_type": "code",
      "source": [],
      "metadata": {
        "id": "DgiS8UzHepX1"
      },
      "execution_count": null,
      "outputs": []
    }
  ]
}